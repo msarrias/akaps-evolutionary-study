{
 "cells": [
  {
   "cell_type": "code",
   "execution_count": 1,
   "id": "0cc9bc24",
   "metadata": {},
   "outputs": [],
   "source": [
    "%load_ext autoreload\n",
    "%autoreload 2\n",
    "from fun2 import *"
   ]
  },
  {
   "cell_type": "markdown",
   "id": "46b6885f",
   "metadata": {},
   "source": [
    "### 01. The [PxIxIT-type calcineurin](https://www.sciencedirect.com/science/article/pii/S1097276520304317?via%3Dihub) anchoring motif"
   ]
  },
  {
   "cell_type": "code",
   "execution_count": 2,
   "id": "299b7eeb",
   "metadata": {},
   "outputs": [],
   "source": [
    "filenames = [file_name for file_name in os.listdir('fasta_files/') if '.fa' in file_name]\n",
    "piaiit_hmm_hits = {}\n",
    "for filename in filenames:\n",
    "    prot_ID = filename.rsplit('_oma')[0]\n",
    "    hmm_for_piaiit_domain = binding_regions()\n",
    "    msa_filename = '../../fasta_files/msa/PIAIIT_v2_msa.fa'\n",
    "    temp_filename = \"sto_files/\"+ prot_ID +\"_PIAIIT_v2.sto\"\n",
    "    hmm_for_piaiit_domain.search_binding_regions(temp_filename,\n",
    "                                                 \"../../profile_hmm/hmm/PIAIIT_v2.hmm\",\n",
    "                                                 \"fasta_files/\" + filename)\n",
    "    piaiit_hmm_hits[prot_ID] = read_sto_files(temp_filename)"
   ]
  },
  {
   "cell_type": "code",
   "execution_count": 3,
   "id": "f5f2346d",
   "metadata": {},
   "outputs": [
    {
     "name": "stdout",
     "output_type": "stream",
     "text": [
      "The PxIxIT-type calcineurin anchoring motif was found in:\n",
      "[('AKAP150', '48/66')]\n",
      "Missing in:\n",
      "['AKAP-Lbc', 'AKAP18', 'AKAP220', 'AKAP2', 'AKAP95', 'gravin', 'mAKAP', 'MAP2', 'WAVE1']\n"
     ]
    }
   ],
   "source": [
    "prots = summary('PxIxIT-type calcineurin anchoring motif', piaiit_hmm_hits, hmm_for_piaiit_domain)"
   ]
  },
  {
   "cell_type": "code",
   "execution_count": 4,
   "id": "be907c9f",
   "metadata": {},
   "outputs": [],
   "source": [
    "missing_seqs, regions_dict, aln = align_ref_region(piaiit_hmm_hits, prots, hmm_for_piaiit_domain, 'PIAIIT')"
   ]
  },
  {
   "cell_type": "code",
   "execution_count": 5,
   "id": "5ea47f52",
   "metadata": {},
   "outputs": [
    {
     "name": "stdout",
     "output_type": "stream",
     "text": [
      "--------\n",
      "AKAP150\n",
      "--------\n",
      "ORNAN05458 \u001b[30m\u001b[47m\u001b[44mM\u001b[47m\u001b[45mE\u001b[47m\u001b[47m-\u001b[47m\u001b[47m-\u001b[47m\u001b[47m-\u001b[47m\u001b[47m-\u001b[47m\u001b[47m-\u001b[47m\u001b[47m-\u001b[47m\u001b[43mP\u001b[47m\u001b[44mI\u001b[47m\u001b[47m-\u001b[47m\u001b[47m-\u001b[47m\u001b[47m-\u001b[47m\u001b[47m-\u001b[47m\u001b[44mA\u001b[47m\u001b[44mI\u001b[47m\u001b[44mI\u001b[47m\u001b[44mI\u001b[47m\u001b[42mT\u001b[47m\u001b[45mD\u001b[47m\u001b[42mT\u001b[47m\u001b[45mE\u001b[47m\u001b[0m\n",
      "OCHPR08454 \u001b[30m\u001b[47m\u001b[44mM\u001b[47m\u001b[45mE\u001b[47m\u001b[47m-\u001b[47m\u001b[47m-\u001b[47m\u001b[47m-\u001b[47m\u001b[47m-\u001b[47m\u001b[47m-\u001b[47m\u001b[47m-\u001b[47m\u001b[43mP\u001b[47m\u001b[44mI\u001b[47m\u001b[47m-\u001b[47m\u001b[47m-\u001b[47m\u001b[47m-\u001b[47m\u001b[47m-\u001b[47m\u001b[44mA\u001b[47m\u001b[44mI\u001b[47m\u001b[44mI\u001b[47m\u001b[44mI\u001b[47m\u001b[42mT\u001b[47m\u001b[45mD\u001b[47m\u001b[42mT\u001b[47m\u001b[45mE\u001b[47m\u001b[0m\n",
      "SARHA02668 \u001b[30m\u001b[47m\u001b[44mM\u001b[47m\u001b[45mE\u001b[47m\u001b[47m-\u001b[47m\u001b[47m-\u001b[47m\u001b[47m-\u001b[47m\u001b[47m-\u001b[47m\u001b[47m-\u001b[47m\u001b[47m-\u001b[47m\u001b[43mP\u001b[47m\u001b[44mI\u001b[47m\u001b[47m-\u001b[47m\u001b[47m-\u001b[47m\u001b[47m-\u001b[47m\u001b[47m-\u001b[47m\u001b[44mA\u001b[47m\u001b[44mI\u001b[47m\u001b[44mI\u001b[47m\u001b[44mV\u001b[47m\u001b[42mT\u001b[47m\u001b[45mD\u001b[47m\u001b[42mT\u001b[47m\u001b[45mE\u001b[47m\u001b[0m\n",
      "PHACI11106 \u001b[30m\u001b[47m\u001b[44mM\u001b[47m\u001b[45mE\u001b[47m\u001b[47m-\u001b[47m\u001b[47m-\u001b[47m\u001b[47m-\u001b[47m\u001b[47m-\u001b[47m\u001b[47m-\u001b[47m\u001b[47m-\u001b[47m\u001b[43mP\u001b[47m\u001b[44mI\u001b[47m\u001b[47m-\u001b[47m\u001b[47m-\u001b[47m\u001b[47m-\u001b[47m\u001b[47m-\u001b[47m\u001b[44mA\u001b[47m\u001b[44mI\u001b[47m\u001b[44mI\u001b[47m\u001b[44mV\u001b[47m\u001b[42mT\u001b[47m\u001b[45mD\u001b[47m\u001b[42mT\u001b[47m\u001b[45mE\u001b[47m\u001b[0m\n",
      "VOMUR25931 \u001b[30m\u001b[47m\u001b[44mM\u001b[47m\u001b[45mE\u001b[47m\u001b[47m-\u001b[47m\u001b[47m-\u001b[47m\u001b[47m-\u001b[47m\u001b[47m-\u001b[47m\u001b[47m-\u001b[47m\u001b[47m-\u001b[47m\u001b[43mP\u001b[47m\u001b[44mI\u001b[47m\u001b[47m-\u001b[47m\u001b[47m-\u001b[47m\u001b[47m-\u001b[47m\u001b[47m-\u001b[47m\u001b[44mA\u001b[47m\u001b[44mI\u001b[47m\u001b[44mI\u001b[47m\u001b[44mV\u001b[47m\u001b[42mT\u001b[47m\u001b[45mD\u001b[47m\u001b[42mT\u001b[47m\u001b[45mE\u001b[47m\u001b[0m\n",
      "RABIT08917 \u001b[30m\u001b[47m\u001b[44mM\u001b[47m\u001b[45mE\u001b[47m\u001b[47m-\u001b[47m\u001b[47m-\u001b[47m\u001b[47m-\u001b[47m\u001b[47m-\u001b[47m\u001b[47m-\u001b[47m\u001b[47m-\u001b[47m\u001b[43mP\u001b[47m\u001b[44mI\u001b[47m\u001b[47m-\u001b[47m\u001b[47m-\u001b[47m\u001b[47m-\u001b[47m\u001b[47m-\u001b[47m\u001b[44mA\u001b[47m\u001b[44mI\u001b[47m\u001b[44mI\u001b[47m\u001b[44mI\u001b[47m\u001b[42mT\u001b[47m\u001b[45mD\u001b[47m\u001b[42mT\u001b[47m\u001b[45mE\u001b[47m\u001b[0m\n",
      "D3YVF0     \u001b[30m\u001b[47m\u001b[44mM\u001b[47m\u001b[45mE\u001b[47m\u001b[47m-\u001b[47m\u001b[47m-\u001b[47m\u001b[47m-\u001b[47m\u001b[47m-\u001b[47m\u001b[47m-\u001b[47m\u001b[47m-\u001b[47m\u001b[43mP\u001b[47m\u001b[44mI\u001b[47m\u001b[47m-\u001b[47m\u001b[47m-\u001b[47m\u001b[47m-\u001b[47m\u001b[47m-\u001b[47m\u001b[44mA\u001b[47m\u001b[44mI\u001b[47m\u001b[44mI\u001b[47m\u001b[44mI\u001b[47m\u001b[42mT\u001b[47m\u001b[45mD\u001b[47m\u001b[42mT\u001b[47m\u001b[45mE\u001b[47m\u001b[0m\n",
      "NANGA08041 \u001b[30m\u001b[47m\u001b[44mM\u001b[47m\u001b[45mE\u001b[47m\u001b[47m-\u001b[47m\u001b[47m-\u001b[47m\u001b[47m-\u001b[47m\u001b[47m-\u001b[47m\u001b[47m-\u001b[47m\u001b[47m-\u001b[47m\u001b[43mP\u001b[47m\u001b[44mI\u001b[47m\u001b[47m-\u001b[47m\u001b[47m-\u001b[47m\u001b[47m-\u001b[47m\u001b[47m-\u001b[47m\u001b[44mA\u001b[47m\u001b[44mI\u001b[47m\u001b[44mI\u001b[47m\u001b[44mI\u001b[47m\u001b[42mT\u001b[47m\u001b[45mD\u001b[47m\u001b[42mT\u001b[47m\u001b[45mE\u001b[47m\u001b[0m\n",
      "ERIEU11702 \u001b[30m\u001b[47m\u001b[44mM\u001b[47m\u001b[45mE\u001b[47m\u001b[47m-\u001b[47m\u001b[47m-\u001b[47m\u001b[47m-\u001b[47m\u001b[47m-\u001b[47m\u001b[47m-\u001b[47m\u001b[47m-\u001b[47m\u001b[43mP\u001b[47m\u001b[44mI\u001b[47m\u001b[47m-\u001b[47m\u001b[47m-\u001b[47m\u001b[47m-\u001b[47m\u001b[47m-\u001b[47m\u001b[44mA\u001b[47m\u001b[44mI\u001b[47m\u001b[44mI\u001b[47m\u001b[44mI\u001b[47m\u001b[42mT\u001b[47m\u001b[45mD\u001b[47m\u001b[42mT\u001b[47m\u001b[45mE\u001b[47m\u001b[0m\n",
      "CARSF00504 \u001b[30m\u001b[47m\u001b[44mM\u001b[47m\u001b[45mE\u001b[47m\u001b[47m-\u001b[47m\u001b[47m-\u001b[47m\u001b[47m-\u001b[47m\u001b[47m-\u001b[47m\u001b[47m-\u001b[47m\u001b[47m-\u001b[47m\u001b[43mP\u001b[47m\u001b[44mI\u001b[47m\u001b[47m-\u001b[47m\u001b[47m-\u001b[47m\u001b[47m-\u001b[47m\u001b[47m-\u001b[47m\u001b[44mA\u001b[47m\u001b[44mI\u001b[47m\u001b[44mI\u001b[47m\u001b[44mI\u001b[47m\u001b[42mT\u001b[47m\u001b[45mD\u001b[47m\u001b[42mT\u001b[47m\u001b[45mE\u001b[47m\u001b[0m\n",
      "CHOHO10289 \u001b[30m\u001b[47m\u001b[44mM\u001b[47m\u001b[45mE\u001b[47m\u001b[47m-\u001b[47m\u001b[47m-\u001b[47m\u001b[47m-\u001b[47m\u001b[47m-\u001b[47m\u001b[47m-\u001b[47m\u001b[47m-\u001b[47m\u001b[43mP\u001b[47m\u001b[44mI\u001b[47m\u001b[47m-\u001b[47m\u001b[47m-\u001b[47m\u001b[47m-\u001b[47m\u001b[47m-\u001b[47m\u001b[44mA\u001b[47m\u001b[44mI\u001b[47m\u001b[44mI\u001b[47m\u001b[44mI\u001b[47m\u001b[42mT\u001b[47m\u001b[45mD\u001b[47m\u001b[42mT\u001b[47m\u001b[45mE\u001b[47m\u001b[0m\n",
      "OTOGA05652 \u001b[30m\u001b[47m\u001b[44mM\u001b[47m\u001b[45mE\u001b[47m\u001b[47m-\u001b[47m\u001b[47m-\u001b[47m\u001b[47m-\u001b[47m\u001b[47m-\u001b[47m\u001b[47m-\u001b[47m\u001b[47m-\u001b[47m\u001b[43mP\u001b[47m\u001b[44mI\u001b[47m\u001b[47m-\u001b[47m\u001b[47m-\u001b[47m\u001b[47m-\u001b[47m\u001b[47m-\u001b[47m\u001b[44mA\u001b[47m\u001b[44mI\u001b[47m\u001b[44mI\u001b[47m\u001b[44mI\u001b[47m\u001b[42mT\u001b[47m\u001b[45mD\u001b[47m\u001b[42mT\u001b[47m\u001b[45mE\u001b[47m\u001b[0m\n",
      "ICTTR13794 \u001b[30m\u001b[47m\u001b[44mM\u001b[47m\u001b[45mE\u001b[47m\u001b[47m-\u001b[47m\u001b[47m-\u001b[47m\u001b[47m-\u001b[47m\u001b[47m-\u001b[47m\u001b[47m-\u001b[47m\u001b[47m-\u001b[47m\u001b[43mP\u001b[47m\u001b[44mI\u001b[47m\u001b[47m-\u001b[47m\u001b[47m-\u001b[47m\u001b[47m-\u001b[47m\u001b[47m-\u001b[47m\u001b[44mA\u001b[47m\u001b[44mI\u001b[47m\u001b[44mI\u001b[47m\u001b[44mI\u001b[47m\u001b[42mT\u001b[47m\u001b[45mD\u001b[47m\u001b[42mT\u001b[47m\u001b[45mE\u001b[47m\u001b[0m\n",
      "TUPBE06995 \u001b[30m\u001b[47m\u001b[44mM\u001b[47m\u001b[45mE\u001b[47m\u001b[47m-\u001b[47m\u001b[47m-\u001b[47m\u001b[47m-\u001b[47m\u001b[47m-\u001b[47m\u001b[47m-\u001b[47m\u001b[47m-\u001b[47m\u001b[43mP\u001b[47m\u001b[44mI\u001b[47m\u001b[47m-\u001b[47m\u001b[47m-\u001b[47m\u001b[47m-\u001b[47m\u001b[47m-\u001b[47m\u001b[44mA\u001b[47m\u001b[44mI\u001b[47m\u001b[44mI\u001b[47m\u001b[44mI\u001b[47m\u001b[42mT\u001b[47m\u001b[45mD\u001b[47m\u001b[42mT\u001b[47m\u001b[45mE\u001b[47m\u001b[0m\n",
      "MANJA00649 \u001b[30m\u001b[47m\u001b[44mM\u001b[47m\u001b[45mE\u001b[47m\u001b[47m-\u001b[47m\u001b[47m-\u001b[47m\u001b[47m-\u001b[47m\u001b[47m-\u001b[47m\u001b[47m-\u001b[47m\u001b[47m-\u001b[47m\u001b[43mP\u001b[47m\u001b[44mI\u001b[47m\u001b[47m-\u001b[47m\u001b[47m-\u001b[47m\u001b[47m-\u001b[47m\u001b[47m-\u001b[47m\u001b[44mA\u001b[47m\u001b[44mI\u001b[47m\u001b[44mI\u001b[47m\u001b[44mI\u001b[47m\u001b[42mT\u001b[47m\u001b[45mD\u001b[47m\u001b[42mT\u001b[47m\u001b[45mE\u001b[47m\u001b[0m\n",
      "MYOLU14337 \u001b[30m\u001b[47m\u001b[44mM\u001b[47m\u001b[45mE\u001b[47m\u001b[47m-\u001b[47m\u001b[47m-\u001b[47m\u001b[47m-\u001b[47m\u001b[47m-\u001b[47m\u001b[47m-\u001b[47m\u001b[47m-\u001b[47m\u001b[43mP\u001b[47m\u001b[44mI\u001b[47m\u001b[47m-\u001b[47m\u001b[47m-\u001b[47m\u001b[47m-\u001b[47m\u001b[47m-\u001b[47m\u001b[44mA\u001b[47m\u001b[44mI\u001b[47m\u001b[44mI\u001b[47m\u001b[44mI\u001b[47m\u001b[42mT\u001b[47m\u001b[45mD\u001b[47m\u001b[42mT\u001b[47m\u001b[45mE\u001b[47m\u001b[0m\n",
      "LOXAF15998 \u001b[30m\u001b[47m\u001b[44mM\u001b[47m\u001b[45mE\u001b[47m\u001b[47m-\u001b[47m\u001b[47m-\u001b[47m\u001b[47m-\u001b[47m\u001b[47m-\u001b[47m\u001b[47m-\u001b[47m\u001b[47m-\u001b[47m\u001b[43mP\u001b[47m\u001b[44mI\u001b[47m\u001b[47m-\u001b[47m\u001b[47m-\u001b[47m\u001b[47m-\u001b[47m\u001b[47m-\u001b[47m\u001b[44mA\u001b[47m\u001b[44mI\u001b[47m\u001b[44mI\u001b[47m\u001b[44mI\u001b[47m\u001b[42mT\u001b[47m\u001b[45mD\u001b[47m\u001b[42mT\u001b[47m\u001b[45mE\u001b[47m\u001b[0m\n",
      "CALJA02446 \u001b[30m\u001b[47m\u001b[44mM\u001b[47m\u001b[45mE\u001b[47m\u001b[47m-\u001b[47m\u001b[47m-\u001b[47m\u001b[47m-\u001b[47m\u001b[47m-\u001b[47m\u001b[47m-\u001b[47m\u001b[47m-\u001b[47m\u001b[43mP\u001b[47m\u001b[44mI\u001b[47m\u001b[47m-\u001b[47m\u001b[47m-\u001b[47m\u001b[47m-\u001b[47m\u001b[47m-\u001b[47m\u001b[44mA\u001b[47m\u001b[44mI\u001b[47m\u001b[44mI\u001b[47m\u001b[44mI\u001b[47m\u001b[42mT\u001b[47m\u001b[45mD\u001b[47m\u001b[42mT\u001b[47m\u001b[45mE\u001b[47m\u001b[0m\n",
      "PAPAN16298 \u001b[30m\u001b[47m\u001b[44mI\u001b[47m\u001b[45mE\u001b[47m\u001b[47m-\u001b[47m\u001b[47m-\u001b[47m\u001b[47m-\u001b[47m\u001b[47m-\u001b[47m\u001b[47m-\u001b[47m\u001b[47m-\u001b[47m\u001b[43mP\u001b[47m\u001b[44mI\u001b[47m\u001b[47m-\u001b[47m\u001b[47m-\u001b[47m\u001b[47m-\u001b[47m\u001b[47m-\u001b[47m\u001b[44mA\u001b[47m\u001b[44mI\u001b[47m\u001b[44mI\u001b[47m\u001b[44mI\u001b[47m\u001b[42mT\u001b[47m\u001b[45mD\u001b[47m\u001b[42mT\u001b[47m\u001b[45mE\u001b[47m\u001b[0m\n",
      "CHLSB11520 \u001b[30m\u001b[47m\u001b[44mI\u001b[47m\u001b[45mE\u001b[47m\u001b[47m-\u001b[47m\u001b[47m-\u001b[47m\u001b[47m-\u001b[47m\u001b[47m-\u001b[47m\u001b[47m-\u001b[47m\u001b[47m-\u001b[47m\u001b[43mP\u001b[47m\u001b[44mI\u001b[47m\u001b[47m-\u001b[47m\u001b[47m-\u001b[47m\u001b[47m-\u001b[47m\u001b[47m-\u001b[47m\u001b[44mA\u001b[47m\u001b[44mI\u001b[47m\u001b[44mI\u001b[47m\u001b[44mI\u001b[47m\u001b[42mT\u001b[47m\u001b[45mD\u001b[47m\u001b[42mT\u001b[47m\u001b[45mE\u001b[47m\u001b[0m\n",
      "RHIRO21147 \u001b[30m\u001b[47m\u001b[44mI\u001b[47m\u001b[45mE\u001b[47m\u001b[47m-\u001b[47m\u001b[47m-\u001b[47m\u001b[47m-\u001b[47m\u001b[47m-\u001b[47m\u001b[47m-\u001b[47m\u001b[47m-\u001b[47m\u001b[43mP\u001b[47m\u001b[44mI\u001b[47m\u001b[47m-\u001b[47m\u001b[47m-\u001b[47m\u001b[47m-\u001b[47m\u001b[47m-\u001b[47m\u001b[44mA\u001b[47m\u001b[44mI\u001b[47m\u001b[44mI\u001b[47m\u001b[44mI\u001b[47m\u001b[42mT\u001b[47m\u001b[45mD\u001b[47m\u001b[42mT\u001b[47m\u001b[45mE\u001b[47m\u001b[0m\n",
      "GORGO06220 \u001b[30m\u001b[47m\u001b[44mM\u001b[47m\u001b[45mE\u001b[47m\u001b[47m-\u001b[47m\u001b[47m-\u001b[47m\u001b[47m-\u001b[47m\u001b[47m-\u001b[47m\u001b[47m-\u001b[47m\u001b[47m-\u001b[47m\u001b[43mP\u001b[47m\u001b[44mI\u001b[47m\u001b[47m-\u001b[47m\u001b[47m-\u001b[47m\u001b[47m-\u001b[47m\u001b[47m-\u001b[47m\u001b[44mA\u001b[47m\u001b[44mI\u001b[47m\u001b[44mI\u001b[47m\u001b[44mI\u001b[47m\u001b[42mT\u001b[47m\u001b[45mD\u001b[47m\u001b[42mT\u001b[47m\u001b[45mE\u001b[47m\u001b[0m\n",
      "HUMAN19788 \u001b[30m\u001b[47m\u001b[44mM\u001b[47m\u001b[45mE\u001b[47m\u001b[47m-\u001b[47m\u001b[47m-\u001b[47m\u001b[47m-\u001b[47m\u001b[47m-\u001b[47m\u001b[47m-\u001b[47m\u001b[47m-\u001b[47m\u001b[43mP\u001b[47m\u001b[44mI\u001b[47m\u001b[47m-\u001b[47m\u001b[47m-\u001b[47m\u001b[47m-\u001b[47m\u001b[47m-\u001b[47m\u001b[44mA\u001b[47m\u001b[44mI\u001b[47m\u001b[44mI\u001b[47m\u001b[44mI\u001b[47m\u001b[42mT\u001b[47m\u001b[45mD\u001b[47m\u001b[42mT\u001b[47m\u001b[45mE\u001b[47m\u001b[0m\n",
      "PANPA12155 \u001b[30m\u001b[47m\u001b[44mM\u001b[47m\u001b[45mE\u001b[47m\u001b[47m-\u001b[47m\u001b[47m-\u001b[47m\u001b[47m-\u001b[47m\u001b[47m-\u001b[47m\u001b[47m-\u001b[47m\u001b[47m-\u001b[47m\u001b[43mP\u001b[47m\u001b[44mI\u001b[47m\u001b[47m-\u001b[47m\u001b[47m-\u001b[47m\u001b[47m-\u001b[47m\u001b[47m-\u001b[47m\u001b[44mA\u001b[47m\u001b[44mI\u001b[47m\u001b[44mI\u001b[47m\u001b[44mI\u001b[47m\u001b[42mT\u001b[47m\u001b[45mD\u001b[47m\u001b[42mT\u001b[47m\u001b[45mE\u001b[47m\u001b[0m\n",
      "PANTR08953 \u001b[30m\u001b[47m\u001b[44mM\u001b[47m\u001b[45mE\u001b[47m\u001b[47m-\u001b[47m\u001b[47m-\u001b[47m\u001b[47m-\u001b[47m\u001b[47m-\u001b[47m\u001b[47m-\u001b[47m\u001b[47m-\u001b[47m\u001b[43mP\u001b[47m\u001b[44mI\u001b[47m\u001b[47m-\u001b[47m\u001b[47m-\u001b[47m\u001b[47m-\u001b[47m\u001b[47m-\u001b[47m\u001b[44mA\u001b[47m\u001b[44mI\u001b[47m\u001b[44mI\u001b[47m\u001b[44mI\u001b[47m\u001b[42mT\u001b[47m\u001b[45mD\u001b[47m\u001b[42mT\u001b[47m\u001b[45mE\u001b[47m\u001b[0m\n",
      "PONAB03609 \u001b[30m\u001b[47m\u001b[44mM\u001b[47m\u001b[45mE\u001b[47m\u001b[47m-\u001b[47m\u001b[47m-\u001b[47m\u001b[47m-\u001b[47m\u001b[47m-\u001b[47m\u001b[47m-\u001b[47m\u001b[47m-\u001b[47m\u001b[43mP\u001b[47m\u001b[44mI\u001b[47m\u001b[47m-\u001b[47m\u001b[47m-\u001b[47m\u001b[47m-\u001b[47m\u001b[47m-\u001b[47m\u001b[44mA\u001b[47m\u001b[44mI\u001b[47m\u001b[44mI\u001b[47m\u001b[44mI\u001b[47m\u001b[42mT\u001b[47m\u001b[45mD\u001b[47m\u001b[42mT\u001b[47m\u001b[45mE\u001b[47m\u001b[0m\n",
      "NOMLE08930 \u001b[30m\u001b[47m\u001b[44mM\u001b[47m\u001b[45mE\u001b[47m\u001b[47m-\u001b[47m\u001b[47m-\u001b[47m\u001b[47m-\u001b[47m\u001b[47m-\u001b[47m\u001b[47m-\u001b[47m\u001b[47m-\u001b[47m\u001b[43mP\u001b[47m\u001b[44mI\u001b[47m\u001b[47m-\u001b[47m\u001b[47m-\u001b[47m\u001b[47m-\u001b[47m\u001b[47m-\u001b[47m\u001b[44mA\u001b[47m\u001b[44mI\u001b[47m\u001b[44mI\u001b[47m\u001b[44mI\u001b[47m\u001b[42mT\u001b[47m\u001b[45mD\u001b[47m\u001b[42mT\u001b[47m\u001b[45mE\u001b[47m\u001b[0m\n",
      "MUSPF19196 \u001b[30m\u001b[47m\u001b[44mM\u001b[47m\u001b[45mE\u001b[47m\u001b[47m-\u001b[47m\u001b[47m-\u001b[47m\u001b[47m-\u001b[47m\u001b[47m-\u001b[47m\u001b[47m-\u001b[47m\u001b[47m-\u001b[47m\u001b[43mP\u001b[47m\u001b[44mI\u001b[47m\u001b[47m-\u001b[47m\u001b[47m-\u001b[47m\u001b[47m-\u001b[47m\u001b[47m-\u001b[47m\u001b[44mA\u001b[47m\u001b[44mI\u001b[47m\u001b[44mI\u001b[47m\u001b[44mI\u001b[47m\u001b[42mT\u001b[47m\u001b[45mD\u001b[47m\u001b[42mT\u001b[47m\u001b[45mE\u001b[47m\u001b[0m\n",
      "CANLF17993 \u001b[30m\u001b[47m\u001b[44mM\u001b[47m\u001b[45mE\u001b[47m\u001b[47m-\u001b[47m\u001b[47m-\u001b[47m\u001b[47m-\u001b[47m\u001b[47m-\u001b[47m\u001b[47m-\u001b[47m\u001b[47m-\u001b[47m\u001b[43mP\u001b[47m\u001b[44mI\u001b[47m\u001b[47m-\u001b[47m\u001b[47m-\u001b[47m\u001b[47m-\u001b[47m\u001b[47m-\u001b[47m\u001b[44mA\u001b[47m\u001b[44mI\u001b[47m\u001b[44mI\u001b[47m\u001b[44mI\u001b[47m\u001b[42mT\u001b[47m\u001b[45mD\u001b[47m\u001b[42mT\u001b[47m\u001b[45mE\u001b[47m\u001b[0m\n",
      "VULVU21607 \u001b[30m\u001b[47m\u001b[44mM\u001b[47m\u001b[45mE\u001b[47m\u001b[47m-\u001b[47m\u001b[47m-\u001b[47m\u001b[47m-\u001b[47m\u001b[47m-\u001b[47m\u001b[47m-\u001b[47m\u001b[47m-\u001b[47m\u001b[43mP\u001b[47m\u001b[44mI\u001b[47m\u001b[47m-\u001b[47m\u001b[47m-\u001b[47m\u001b[47m-\u001b[47m\u001b[47m-\u001b[47m\u001b[44mA\u001b[47m\u001b[44mI\u001b[47m\u001b[44mI\u001b[47m\u001b[44mI\u001b[47m\u001b[42mT\u001b[47m\u001b[45mD\u001b[47m\u001b[42mT\u001b[47m\u001b[45mE\u001b[47m\u001b[0m\n",
      "AILME17918 \u001b[30m\u001b[47m\u001b[44mM\u001b[47m\u001b[45mE\u001b[47m\u001b[47m-\u001b[47m\u001b[47m-\u001b[47m\u001b[47m-\u001b[47m\u001b[47m-\u001b[47m\u001b[47m-\u001b[47m\u001b[47m-\u001b[47m\u001b[43mP\u001b[47m\u001b[44mI\u001b[47m\u001b[47m-\u001b[47m\u001b[47m-\u001b[47m\u001b[47m-\u001b[47m\u001b[47m-\u001b[47m\u001b[44mA\u001b[47m\u001b[44mI\u001b[47m\u001b[44mI\u001b[47m\u001b[44mI\u001b[47m\u001b[42mT\u001b[47m\u001b[45mD\u001b[47m\u001b[42mT\u001b[47m\u001b[45mE\u001b[47m\u001b[0m\n",
      "URSAM05517 \u001b[30m\u001b[47m\u001b[44mM\u001b[47m\u001b[45mE\u001b[47m\u001b[47m-\u001b[47m\u001b[47m-\u001b[47m\u001b[47m-\u001b[47m\u001b[47m-\u001b[47m\u001b[47m-\u001b[47m\u001b[47m-\u001b[47m\u001b[43mP\u001b[47m\u001b[44mI\u001b[47m\u001b[47m-\u001b[47m\u001b[47m-\u001b[47m\u001b[47m-\u001b[47m\u001b[47m-\u001b[47m\u001b[44mA\u001b[47m\u001b[44mI\u001b[47m\u001b[44mI\u001b[47m\u001b[44mI\u001b[47m\u001b[42mT\u001b[47m\u001b[45mD\u001b[47m\u001b[42mT\u001b[47m\u001b[45mE\u001b[47m\u001b[0m\n",
      "URSMA03054 \u001b[30m\u001b[47m\u001b[44mM\u001b[47m\u001b[45mE\u001b[47m\u001b[47m-\u001b[47m\u001b[47m-\u001b[47m\u001b[47m-\u001b[47m\u001b[47m-\u001b[47m\u001b[47m-\u001b[47m\u001b[47m-\u001b[47m\u001b[43mP\u001b[47m\u001b[44mI\u001b[47m\u001b[47m-\u001b[47m\u001b[47m-\u001b[47m\u001b[47m-\u001b[47m\u001b[47m-\u001b[47m\u001b[44mA\u001b[47m\u001b[44mI\u001b[47m\u001b[44mI\u001b[47m\u001b[44mI\u001b[47m\u001b[42mT\u001b[47m\u001b[45mD\u001b[47m\u001b[42mT\u001b[47m\u001b[45mE\u001b[47m\u001b[0m\n",
      "SURSU33666 \u001b[30m\u001b[47m\u001b[44mM\u001b[47m\u001b[45mE\u001b[47m\u001b[47m-\u001b[47m\u001b[47m-\u001b[47m\u001b[47m-\u001b[47m\u001b[47m-\u001b[47m\u001b[47m-\u001b[47m\u001b[47m-\u001b[47m\u001b[43mP\u001b[47m\u001b[44mI\u001b[47m\u001b[47m-\u001b[47m\u001b[47m-\u001b[47m\u001b[47m-\u001b[47m\u001b[47m-\u001b[47m\u001b[44mA\u001b[47m\u001b[44mI\u001b[47m\u001b[44mI\u001b[47m\u001b[44mI\u001b[47m\u001b[42mT\u001b[47m\u001b[45mD\u001b[47m\u001b[42mT\u001b[47m\u001b[45mE\u001b[47m\u001b[0m\n",
      "FELCA07020 \u001b[30m\u001b[47m\u001b[44mM\u001b[47m\u001b[45mE\u001b[47m\u001b[47m-\u001b[47m\u001b[47m-\u001b[47m\u001b[47m-\u001b[47m\u001b[47m-\u001b[47m\u001b[47m-\u001b[47m\u001b[47m-\u001b[47m\u001b[43mP\u001b[47m\u001b[44mI\u001b[47m\u001b[47m-\u001b[47m\u001b[47m-\u001b[47m\u001b[47m-\u001b[47m\u001b[47m-\u001b[47m\u001b[44mA\u001b[47m\u001b[44mI\u001b[47m\u001b[44mI\u001b[47m\u001b[44mI\u001b[47m\u001b[42mT\u001b[47m\u001b[45mD\u001b[47m\u001b[42mT\u001b[47m\u001b[45mE\u001b[47m\u001b[0m\n",
      "PIGXX32674 \u001b[30m\u001b[47m\u001b[44mM\u001b[47m\u001b[45mE\u001b[47m\u001b[47m-\u001b[47m\u001b[47m-\u001b[47m\u001b[47m-\u001b[47m\u001b[47m-\u001b[47m\u001b[47m-\u001b[47m\u001b[47m-\u001b[47m\u001b[43mP\u001b[47m\u001b[44mI\u001b[47m\u001b[47m-\u001b[47m\u001b[47m-\u001b[47m\u001b[47m-\u001b[47m\u001b[47m-\u001b[47m\u001b[44mA\u001b[47m\u001b[44mI\u001b[47m\u001b[44mI\u001b[47m\u001b[44mI\u001b[47m\u001b[42mT\u001b[47m\u001b[45mD\u001b[47m\u001b[42mT\u001b[47m\u001b[45mE\u001b[47m\u001b[0m\n",
      "BALMU30473 \u001b[30m\u001b[47m\u001b[44mM\u001b[47m\u001b[45mE\u001b[47m\u001b[47m-\u001b[47m\u001b[47m-\u001b[47m\u001b[47m-\u001b[47m\u001b[47m-\u001b[47m\u001b[47m-\u001b[47m\u001b[47m-\u001b[47m\u001b[43mP\u001b[47m\u001b[44mI\u001b[47m\u001b[47m-\u001b[47m\u001b[47m-\u001b[47m\u001b[47m-\u001b[47m\u001b[47m-\u001b[47m\u001b[44mA\u001b[47m\u001b[44mI\u001b[47m\u001b[44mI\u001b[47m\u001b[44mI\u001b[47m\u001b[42mT\u001b[47m\u001b[45mD\u001b[47m\u001b[42mT\u001b[47m\u001b[45mE\u001b[47m\u001b[0m\n",
      "BOBOX21633 \u001b[30m\u001b[47m\u001b[44mM\u001b[47m\u001b[45mE\u001b[47m\u001b[47m-\u001b[47m\u001b[47m-\u001b[47m\u001b[47m-\u001b[47m\u001b[47m-\u001b[47m\u001b[47m-\u001b[47m\u001b[47m-\u001b[47m\u001b[43mP\u001b[47m\u001b[44mI\u001b[47m\u001b[47m-\u001b[47m\u001b[47m-\u001b[47m\u001b[47m-\u001b[47m\u001b[47m-\u001b[47m\u001b[44mA\u001b[47m\u001b[44mI\u001b[47m\u001b[44mI\u001b[47m\u001b[44mI\u001b[47m\u001b[42mT\u001b[47m\u001b[45mD\u001b[47m\u001b[42mT\u001b[47m\u001b[45mE\u001b[47m\u001b[0m\n",
      "BOVIN01548 \u001b[30m\u001b[47m\u001b[44mM\u001b[47m\u001b[45mE\u001b[47m\u001b[47m-\u001b[47m\u001b[47m-\u001b[47m\u001b[47m-\u001b[47m\u001b[47m-\u001b[47m\u001b[47m-\u001b[47m\u001b[47m-\u001b[47m\u001b[43mP\u001b[47m\u001b[44mI\u001b[47m\u001b[47m-\u001b[47m\u001b[47m-\u001b[47m\u001b[47m-\u001b[47m\u001b[47m-\u001b[47m\u001b[44mA\u001b[47m\u001b[44mI\u001b[47m\u001b[44mI\u001b[47m\u001b[44mI\u001b[47m\u001b[42mT\u001b[47m\u001b[45mD\u001b[47m\u001b[42mT\u001b[47m\u001b[45mE\u001b[47m\u001b[0m\n",
      "CAPHI00292 \u001b[30m\u001b[47m\u001b[44mM\u001b[47m\u001b[45mE\u001b[47m\u001b[47m-\u001b[47m\u001b[47m-\u001b[47m\u001b[47m-\u001b[47m\u001b[47m-\u001b[47m\u001b[47m-\u001b[47m\u001b[47m-\u001b[47m\u001b[43mP\u001b[47m\u001b[44mI\u001b[47m\u001b[47m-\u001b[47m\u001b[47m-\u001b[47m\u001b[47m-\u001b[47m\u001b[47m-\u001b[47m\u001b[44mA\u001b[47m\u001b[44mI\u001b[47m\u001b[44mI\u001b[47m\u001b[44mI\u001b[47m\u001b[42mT\u001b[47m\u001b[45mD\u001b[47m\u001b[42mT\u001b[47m\u001b[45mE\u001b[47m\u001b[0m\n",
      "SHEEP18375 \u001b[30m\u001b[47m\u001b[44mM\u001b[47m\u001b[45mE\u001b[47m\u001b[47m-\u001b[47m\u001b[47m-\u001b[47m\u001b[47m-\u001b[47m\u001b[47m-\u001b[47m\u001b[47m-\u001b[47m\u001b[47m-\u001b[47m\u001b[43mP\u001b[47m\u001b[44mI\u001b[47m\u001b[47m-\u001b[47m\u001b[47m-\u001b[47m\u001b[47m-\u001b[47m\u001b[47m-\u001b[47m\u001b[44mA\u001b[47m\u001b[44mI\u001b[47m\u001b[44mI\u001b[47m\u001b[44mI\u001b[47m\u001b[42mT\u001b[47m\u001b[45mD\u001b[47m\u001b[42mT\u001b[47m\u001b[45mE\u001b[47m\u001b[0m\n",
      "RHIFE30896 \u001b[30m\u001b[47m\u001b[44mM\u001b[47m\u001b[45mE\u001b[47m\u001b[47m-\u001b[47m\u001b[47m-\u001b[47m\u001b[47m-\u001b[47m\u001b[47m-\u001b[47m\u001b[47m-\u001b[47m\u001b[47m-\u001b[47m\u001b[43mP\u001b[47m\u001b[44mI\u001b[47m\u001b[47m-\u001b[47m\u001b[47m-\u001b[47m\u001b[47m-\u001b[47m\u001b[47m-\u001b[47m\u001b[44mA\u001b[47m\u001b[44mI\u001b[47m\u001b[44mI\u001b[47m\u001b[44mI\u001b[47m\u001b[42mT\u001b[47m\u001b[45mD\u001b[47m\u001b[42mT\u001b[47m\u001b[45mE\u001b[47m\u001b[0m\n",
      "PTEVA15781 \u001b[30m\u001b[47m\u001b[44mM\u001b[47m\u001b[45mE\u001b[47m\u001b[47m-\u001b[47m\u001b[47m-\u001b[47m\u001b[47m-\u001b[47m\u001b[47m-\u001b[47m\u001b[47m-\u001b[47m\u001b[47m-\u001b[47m\u001b[43mP\u001b[47m\u001b[44mI\u001b[47m\u001b[47m-\u001b[47m\u001b[47m-\u001b[47m\u001b[47m-\u001b[47m\u001b[47m-\u001b[47m\u001b[44mA\u001b[47m\u001b[44mI\u001b[47m\u001b[44mI\u001b[47m\u001b[44mI\u001b[47m\u001b[42mT\u001b[47m\u001b[45mD\u001b[47m\u001b[42mT\u001b[47m\u001b[45mE\u001b[47m\u001b[0m\n",
      "EQUAS25018 \u001b[30m\u001b[47m\u001b[44mM\u001b[47m\u001b[45mE\u001b[47m\u001b[47m-\u001b[47m\u001b[47m-\u001b[47m\u001b[47m-\u001b[47m\u001b[47m-\u001b[47m\u001b[47m-\u001b[47m\u001b[47m-\u001b[47m\u001b[43mP\u001b[47m\u001b[44mI\u001b[47m\u001b[47m-\u001b[47m\u001b[47m-\u001b[47m\u001b[47m-\u001b[47m\u001b[47m-\u001b[47m\u001b[44mA\u001b[47m\u001b[44mI\u001b[47m\u001b[44mI\u001b[47m\u001b[44mI\u001b[47m\u001b[42mT\u001b[47m\u001b[45mD\u001b[47m\u001b[42mT\u001b[47m\u001b[45mE\u001b[47m\u001b[0m\n",
      "HORSE11293 \u001b[30m\u001b[47m\u001b[44mM\u001b[47m\u001b[45mE\u001b[47m\u001b[47m-\u001b[47m\u001b[47m-\u001b[47m\u001b[47m-\u001b[47m\u001b[47m-\u001b[47m\u001b[47m-\u001b[47m\u001b[47m-\u001b[47m\u001b[43mP\u001b[47m\u001b[44mI\u001b[47m\u001b[47m-\u001b[47m\u001b[47m-\u001b[47m\u001b[47m-\u001b[47m\u001b[47m-\u001b[47m\u001b[44mA\u001b[47m\u001b[44mI\u001b[47m\u001b[44mI\u001b[47m\u001b[44mI\u001b[47m\u001b[42mT\u001b[47m\u001b[45mD\u001b[47m\u001b[42mT\u001b[47m\u001b[45mE\u001b[47m\u001b[0m\n",
      "CHILA15651 \u001b[30m\u001b[47m\u001b[44mM\u001b[47m\u001b[45mE\u001b[47m\u001b[47m-\u001b[47m\u001b[47m-\u001b[47m\u001b[47m-\u001b[47m\u001b[47m-\u001b[47m\u001b[47m-\u001b[47m\u001b[47m-\u001b[47m\u001b[43mP\u001b[47m\u001b[44mI\u001b[47m\u001b[47m-\u001b[47m\u001b[47m-\u001b[47m\u001b[47m-\u001b[47m\u001b[47m-\u001b[47m\u001b[44mA\u001b[47m\u001b[44mI\u001b[47m\u001b[44mI\u001b[47m\u001b[44mI\u001b[47m\u001b[42mT\u001b[47m\u001b[45mD\u001b[47m\u001b[42mT\u001b[47m\u001b[45mE\u001b[47m\u001b[0m\n",
      "HETGA05069 \u001b[30m\u001b[47m\u001b[44mM\u001b[47m\u001b[45mE\u001b[47m\u001b[47m-\u001b[47m\u001b[47m-\u001b[47m\u001b[47m-\u001b[47m\u001b[47m-\u001b[47m\u001b[47m-\u001b[47m\u001b[47m-\u001b[47m\u001b[43mP\u001b[47m\u001b[44mI\u001b[47m\u001b[47m-\u001b[47m\u001b[47m-\u001b[47m\u001b[47m-\u001b[47m\u001b[47m-\u001b[47m\u001b[44mA\u001b[47m\u001b[44mI\u001b[47m\u001b[44mI\u001b[47m\u001b[44mI\u001b[47m\u001b[42mT\u001b[47m\u001b[45mD\u001b[47m\u001b[42mT\u001b[47m\u001b[45mE\u001b[47m\u001b[0m\n",
      "CAVPO11351 \u001b[30m\u001b[47m\u001b[44mM\u001b[47m\u001b[45mE\u001b[47m\u001b[47m-\u001b[47m\u001b[47m-\u001b[47m\u001b[47m-\u001b[47m\u001b[47m-\u001b[47m\u001b[47m-\u001b[47m\u001b[47m-\u001b[47m\u001b[43mP\u001b[47m\u001b[44mI\u001b[47m\u001b[47m-\u001b[47m\u001b[47m-\u001b[47m\u001b[47m-\u001b[47m\u001b[47m-\u001b[47m\u001b[44mA\u001b[47m\u001b[44mI\u001b[47m\u001b[44mI\u001b[47m\u001b[44mI\u001b[47m\u001b[42mT\u001b[47m\u001b[45mD\u001b[47m\u001b[42mT\u001b[47m\u001b[45mE\u001b[47m\u001b[0m\n",
      "PELSI07995 \u001b[30m\u001b[47m\u001b[45mE\u001b[47m\u001b[45mE\u001b[47m\u001b[42mN\u001b[47m\u001b[45mE\u001b[47m\u001b[45mD\u001b[47m\u001b[42mT\u001b[47m\u001b[42mN\u001b[47m\u001b[44mI\u001b[47m\u001b[44mA\u001b[47m\u001b[47m-\u001b[47m\u001b[47m-\u001b[47m\u001b[47m-\u001b[47m\u001b[47m-\u001b[47m\u001b[47m-\u001b[47m\u001b[43mG\u001b[47m\u001b[44mI\u001b[47m\u001b[44mV\u001b[47m\u001b[44mI\u001b[47m\u001b[42mT\u001b[47m\u001b[44mV\u001b[47m\u001b[42mT\u001b[47m\u001b[45mE\u001b[47m\u001b[0m\n",
      "CHRPI05153 \u001b[30m\u001b[47m\u001b[45mE\u001b[47m\u001b[45mE\u001b[47m\u001b[42mN\u001b[47m\u001b[41mK\u001b[47m\u001b[42mN\u001b[47m\u001b[42mT\u001b[47m\u001b[42mS\u001b[47m\u001b[47m-\u001b[47m\u001b[43mG\u001b[47m\u001b[44mV\u001b[47m\u001b[47m-\u001b[47m\u001b[47m-\u001b[47m\u001b[47m-\u001b[47m\u001b[47m-\u001b[47m\u001b[42mS\u001b[47m\u001b[44mI\u001b[47m\u001b[44mV\u001b[47m\u001b[44mI\u001b[47m\u001b[42mT\u001b[47m\u001b[44mI\u001b[47m\u001b[42mT\u001b[47m\u001b[45mE\u001b[47m\u001b[0m\n",
      "CHEAB08896 \u001b[30m\u001b[47m\u001b[45mE\u001b[47m\u001b[45mE\u001b[47m\u001b[42mN\u001b[47m\u001b[41mK\u001b[47m\u001b[45mD\u001b[47m\u001b[42mT\u001b[47m\u001b[42mS\u001b[47m\u001b[47m-\u001b[47m\u001b[43mG\u001b[47m\u001b[44mV\u001b[47m\u001b[47m-\u001b[47m\u001b[47m-\u001b[47m\u001b[47m-\u001b[47m\u001b[47m-\u001b[47m\u001b[42mS\u001b[47m\u001b[44mI\u001b[47m\u001b[44mV\u001b[47m\u001b[44mI\u001b[47m\u001b[42mT\u001b[47m\u001b[44mI\u001b[47m\u001b[42mT\u001b[47m\u001b[45mE\u001b[47m\u001b[0m\n",
      "JUNHY09514 \u001b[30m\u001b[47m\u001b[44mV\u001b[47m\u001b[41mK\u001b[47m\u001b[45mD\u001b[47m\u001b[44mA\u001b[47m\u001b[45mE\u001b[47m\u001b[42mS\u001b[47m\u001b[44mV\u001b[47m\u001b[42mQ\u001b[47m\u001b[45mD\u001b[47m\u001b[42mT\u001b[47m\u001b[47m-\u001b[47m\u001b[47m-\u001b[47m\u001b[47m-\u001b[47m\u001b[47m-\u001b[47m\u001b[44mA\u001b[47m\u001b[42mS\u001b[47m\u001b[44mL\u001b[47m\u001b[42mQ\u001b[47m\u001b[46mH\u001b[47m\u001b[44mA\u001b[47m\u001b[42mT\u001b[47m\u001b[42mS\u001b[47m\u001b[0m\n",
      "ANAPL07999 \u001b[30m\u001b[47m\u001b[45mE\u001b[47m\u001b[44mI\u001b[47m\u001b[42mN\u001b[47m\u001b[44mM\u001b[47m\u001b[43mG\u001b[47m\u001b[42mT\u001b[47m\u001b[47m-\u001b[47m\u001b[47m-\u001b[47m\u001b[44mC\u001b[47m\u001b[44mV\u001b[47m\u001b[47m-\u001b[47m\u001b[47m-\u001b[47m\u001b[47m-\u001b[47m\u001b[47m-\u001b[47m\u001b[43mG\u001b[47m\u001b[44mI\u001b[47m\u001b[44mV\u001b[47m\u001b[44mI\u001b[47m\u001b[42mT\u001b[47m\u001b[44mV\u001b[47m\u001b[42mT\u001b[47m\u001b[45mE\u001b[47m\u001b[0m\n",
      "ANAPP18340 \u001b[30m\u001b[47m\u001b[45mE\u001b[47m\u001b[44mI\u001b[47m\u001b[42mN\u001b[47m\u001b[44mM\u001b[47m\u001b[43mG\u001b[47m\u001b[42mT\u001b[47m\u001b[47m-\u001b[47m\u001b[47m-\u001b[47m\u001b[44mC\u001b[47m\u001b[44mV\u001b[47m\u001b[47m-\u001b[47m\u001b[47m-\u001b[47m\u001b[47m-\u001b[47m\u001b[47m-\u001b[47m\u001b[43mG\u001b[47m\u001b[44mI\u001b[47m\u001b[44mV\u001b[47m\u001b[44mI\u001b[47m\u001b[42mT\u001b[47m\u001b[44mV\u001b[47m\u001b[42mT\u001b[47m\u001b[45mE\u001b[47m\u001b[0m\n",
      "MELGA11168 \u001b[30m\u001b[47m\u001b[45mE\u001b[47m\u001b[44mV\u001b[47m\u001b[42mN\u001b[47m\u001b[44mM\u001b[47m\u001b[43mG\u001b[47m\u001b[42mT\u001b[47m\u001b[47m-\u001b[47m\u001b[47m-\u001b[47m\u001b[43mG\u001b[47m\u001b[44mV\u001b[47m\u001b[47m-\u001b[47m\u001b[47m-\u001b[47m\u001b[47m-\u001b[47m\u001b[47m-\u001b[47m\u001b[43mG\u001b[47m\u001b[44mI\u001b[47m\u001b[44mV\u001b[47m\u001b[44mI\u001b[47m\u001b[42mT\u001b[47m\u001b[44mI\u001b[47m\u001b[42mT\u001b[47m\u001b[45mE\u001b[47m\u001b[0m\n",
      "CHICK22827 \u001b[30m\u001b[47m\u001b[45mE\u001b[47m\u001b[44mV\u001b[47m\u001b[42mN\u001b[47m\u001b[44mM\u001b[47m\u001b[43mG\u001b[47m\u001b[42mT\u001b[47m\u001b[47m-\u001b[47m\u001b[47m-\u001b[47m\u001b[43mG\u001b[47m\u001b[44mV\u001b[47m\u001b[47m-\u001b[47m\u001b[47m-\u001b[47m\u001b[47m-\u001b[47m\u001b[47m-\u001b[47m\u001b[43mG\u001b[47m\u001b[44mI\u001b[47m\u001b[44mV\u001b[47m\u001b[44mI\u001b[47m\u001b[42mT\u001b[47m\u001b[44mI\u001b[47m\u001b[42mT\u001b[47m\u001b[45mE\u001b[47m\u001b[0m\n",
      "PARMJ21227 \u001b[30m\u001b[47m\u001b[44mV\u001b[47m\u001b[44mA\u001b[47m\u001b[47m-\u001b[47m\u001b[47m-\u001b[47m\u001b[47m-\u001b[47m\u001b[47m-\u001b[47m\u001b[47m-\u001b[47m\u001b[47m-\u001b[47m\u001b[43mP\u001b[47m\u001b[41mK\u001b[47m\u001b[47m-\u001b[47m\u001b[47m-\u001b[47m\u001b[47m-\u001b[47m\u001b[47m-\u001b[47m\u001b[44mV\u001b[47m\u001b[44mI\u001b[47m\u001b[44mV\u001b[47m\u001b[44mI\u001b[47m\u001b[42mT\u001b[47m\u001b[44mI\u001b[47m\u001b[42mT\u001b[47m\u001b[45mE\u001b[47m\u001b[0m\n",
      "FICAL02679 \u001b[30m\u001b[47m\u001b[41mK\u001b[47m\u001b[44mA\u001b[47m\u001b[42mS\u001b[47m\u001b[44mA\u001b[47m\u001b[43mG\u001b[47m\u001b[42mT\u001b[47m\u001b[47m-\u001b[47m\u001b[47m-\u001b[47m\u001b[43mG\u001b[47m\u001b[44mV\u001b[47m\u001b[47m-\u001b[47m\u001b[47m-\u001b[47m\u001b[47m-\u001b[47m\u001b[47m-\u001b[47m\u001b[42mS\u001b[47m\u001b[44mI\u001b[47m\u001b[44mV\u001b[47m\u001b[44mI\u001b[47m\u001b[42mT\u001b[47m\u001b[44mI\u001b[47m\u001b[42mT\u001b[47m\u001b[45mE\u001b[47m\u001b[0m\n",
      "TAEGU10888 \u001b[30m\u001b[47m\u001b[41mK\u001b[47m\u001b[44mA\u001b[47m\u001b[42mN\u001b[47m\u001b[44mA\u001b[47m\u001b[43mG\u001b[47m\u001b[42mT\u001b[47m\u001b[47m-\u001b[47m\u001b[47m-\u001b[47m\u001b[43mG\u001b[47m\u001b[44mV\u001b[47m\u001b[47m-\u001b[47m\u001b[47m-\u001b[47m\u001b[47m-\u001b[47m\u001b[47m-\u001b[47m\u001b[42mS\u001b[47m\u001b[44mI\u001b[47m\u001b[44mI\u001b[47m\u001b[44mI\u001b[47m\u001b[42mT\u001b[47m\u001b[44mI\u001b[47m\u001b[42mT\u001b[47m\u001b[45mE\u001b[47m\u001b[0m\n",
      "ATHCN07158 \u001b[30m\u001b[47m\u001b[45mE\u001b[47m\u001b[44mA\u001b[47m\u001b[42mN\u001b[47m\u001b[44mA\u001b[47m\u001b[43mG\u001b[47m\u001b[42mT\u001b[47m\u001b[47m-\u001b[47m\u001b[47m-\u001b[47m\u001b[43mG\u001b[47m\u001b[44mI\u001b[47m\u001b[47m-\u001b[47m\u001b[47m-\u001b[47m\u001b[47m-\u001b[47m\u001b[47m-\u001b[47m\u001b[42mS\u001b[47m\u001b[44mI\u001b[47m\u001b[44mV\u001b[47m\u001b[44mI\u001b[47m\u001b[42mT\u001b[47m\u001b[44mV\u001b[47m\u001b[42mT\u001b[47m\u001b[45mE\u001b[47m\u001b[0m\n",
      "STRHB09457 \u001b[30m\u001b[47m\u001b[43mG\u001b[47m\u001b[44mA\u001b[47m\u001b[42mN\u001b[47m\u001b[44mI\u001b[47m\u001b[43mG\u001b[47m\u001b[42mT\u001b[47m\u001b[47m-\u001b[47m\u001b[47m-\u001b[47m\u001b[44mA\u001b[47m\u001b[44mV\u001b[47m\u001b[47m-\u001b[47m\u001b[47m-\u001b[47m\u001b[47m-\u001b[47m\u001b[47m-\u001b[47m\u001b[43mG\u001b[47m\u001b[44mI\u001b[47m\u001b[44mV\u001b[47m\u001b[44mI\u001b[47m\u001b[42mT\u001b[47m\u001b[44mV\u001b[47m\u001b[42mT\u001b[47m\u001b[45mE\u001b[47m\u001b[0m\n",
      "MELUD06930 \u001b[30m\u001b[47m\u001b[43mG\u001b[47m\u001b[44mA\u001b[47m\u001b[42mN\u001b[47m\u001b[44mI\u001b[47m\u001b[43mG\u001b[47m\u001b[42mT\u001b[47m\u001b[47m-\u001b[47m\u001b[47m-\u001b[47m\u001b[44mA\u001b[47m\u001b[44mV\u001b[47m\u001b[47m-\u001b[47m\u001b[47m-\u001b[47m\u001b[47m-\u001b[47m\u001b[47m-\u001b[47m\u001b[43mG\u001b[47m\u001b[44mI\u001b[47m\u001b[44mV\u001b[47m\u001b[44mI\u001b[47m\u001b[42mT\u001b[47m\u001b[44mI\u001b[47m\u001b[42mT\u001b[47m\u001b[45mE\u001b[47m\u001b[0m\n",
      "PSETE06237 \u001b[30m\u001b[47m\u001b[45mE\u001b[47m\u001b[45mE\u001b[47m\u001b[42mN\u001b[47m\u001b[42mQ\u001b[47m\u001b[44mF\u001b[47m\u001b[42mT\u001b[47m\u001b[44mI\u001b[47m\u001b[43mP\u001b[47m\u001b[43mG\u001b[47m\u001b[44mA\u001b[47m\u001b[47m-\u001b[47m\u001b[47m-\u001b[47m\u001b[47m-\u001b[47m\u001b[47m-\u001b[47m\u001b[43mG\u001b[47m\u001b[44mI\u001b[47m\u001b[44mV\u001b[47m\u001b[44mI\u001b[47m\u001b[42mT\u001b[47m\u001b[44mI\u001b[47m\u001b[42mT\u001b[47m\u001b[45mE\u001b[47m\u001b[0m\n",
      "PODMU08289 \u001b[30m\u001b[47m\u001b[45mD\u001b[47m\u001b[45mE\u001b[47m\u001b[42mN\u001b[47m\u001b[41mK\u001b[47m\u001b[44mL\u001b[47m\u001b[44mA\u001b[47m\u001b[44mM\u001b[47m\u001b[43mP\u001b[47m\u001b[43mG\u001b[47m\u001b[44mA\u001b[47m\u001b[47m-\u001b[47m\u001b[47m-\u001b[47m\u001b[47m-\u001b[47m\u001b[47m-\u001b[47m\u001b[43mG\u001b[47m\u001b[44mI\u001b[47m\u001b[44mV\u001b[47m\u001b[44mI\u001b[47m\u001b[44mM\u001b[47m\u001b[44mI\u001b[47m\u001b[42mT\u001b[47m\u001b[45mE\u001b[47m\u001b[0m\n",
      "ANOCA00008 \u001b[30m\u001b[47m\u001b[42mN\u001b[47m\u001b[42mQ\u001b[47m\u001b[47m-\u001b[47m\u001b[47m-\u001b[47m\u001b[47m-\u001b[47m\u001b[47m-\u001b[47m\u001b[47m-\u001b[47m\u001b[47m-\u001b[47m\u001b[43mP\u001b[47m\u001b[44mV\u001b[47m\u001b[44mM\u001b[47m\u001b[43mP\u001b[47m\u001b[44mA\u001b[47m\u001b[44mA\u001b[47m\u001b[43mG\u001b[47m\u001b[44mI\u001b[47m\u001b[44mM\u001b[47m\u001b[44mI\u001b[47m\u001b[44mM\u001b[47m\u001b[44mI\u001b[47m\u001b[42mT\u001b[47m\u001b[45mE\u001b[47m\u001b[0m\n",
      "          0↑                 20↑\n",
      "--------\n",
      "species with no hits: ['ANAPL07999', 'ANAPP18340', 'MELGA11168', 'CHICK22827', 'FICAL02679', 'PARMJ21227', 'JUNHY09514', 'TAEGU10888', 'SERCA04063', 'STRHB09457', 'MELUD06930', 'ATHCN07158', 'CHRPI05153', 'CHEAB08896', 'PELSI07995', 'PODMU08289', 'ANOCA00008', 'PSETE06237']\n",
      "--------\n",
      "\n"
     ]
    }
   ],
   "source": [
    "visualize_aln(aln, missing_seqs)"
   ]
  },
  {
   "cell_type": "markdown",
   "id": "ab4dceb9",
   "metadata": {},
   "source": [
    "### 02. The [LxVP-type PP1](https://www.sciencedirect.com/science/article/pii/S1097276520304317?via%3Dihub) anchoring motif"
   ]
  },
  {
   "cell_type": "code",
   "execution_count": 6,
   "id": "11393564",
   "metadata": {},
   "outputs": [],
   "source": [
    "hmm_for_LXVP_domain = binding_regions()\n",
    "msa_filename = '../../fasta_files/msa/LXVP_seed_msa.fa'\n",
    "# align the seed sequences \n",
    "hmm_for_LXVP_domain.muscle_msa('../../profile_hmm/seed_files/LxVP_seed.fa', msa_filename)\n",
    "# build the profile hmm\n",
    "hmm_for_LXVP_domain.build_profile_hmm(\"../../profile_hmm/hmm/LXVP.hmm\", msa_filename)"
   ]
  },
  {
   "cell_type": "code",
   "execution_count": 7,
   "id": "f19023de",
   "metadata": {},
   "outputs": [],
   "source": [
    "hmm_for_LXVP = binding_regions()\n",
    "LXVP_hmm_hits = {}\n",
    "for filename in filenames:\n",
    "    prot_ID = filename.rsplit('_oma')[0]\n",
    "    temp_filename = \"sto_files/\"+ prot_ID +\"LXVP.sto\"\n",
    "    hmm_for_LXVP.search_binding_regions(temp_filename,\n",
    "                                        \"../../profile_hmm/hmm/LXVP.hmm\",\n",
    "                                        \"fasta_files/\" + filename)\n",
    "    LXVP_hmm_hits[prot_ID] = read_sto_files(temp_filename)"
   ]
  },
  {
   "cell_type": "code",
   "execution_count": 8,
   "id": "177b7ad9",
   "metadata": {},
   "outputs": [
    {
     "name": "stdout",
     "output_type": "stream",
     "text": [
      "The  LxVP anchoring motif was found in:\n",
      "[]\n",
      "Missing in:\n",
      "['AKAP-Lbc', 'AKAP150', 'AKAP18', 'AKAP220', 'AKAP2', 'AKAP95', 'gravin', 'mAKAP', 'MAP2', 'WAVE1']\n"
     ]
    }
   ],
   "source": [
    "prots = summary(' LxVP anchoring motif', LXVP_hmm_hits, hmm_for_LXVP_domain)"
   ]
  },
  {
   "cell_type": "markdown",
   "id": "69fcfff4",
   "metadata": {},
   "source": [
    "### 03. The [RvXF-type PP1](https://febs.onlinelibrary.wiley.com/doi/10.1111/j.1742-4658.2012.08547.x) anchoring motifs"
   ]
  },
  {
   "cell_type": "markdown",
   "id": "d00194fb",
   "metadata": {},
   "source": [
    "### 04. The [PP2B](https://www.ncbi.nlm.nih.gov/pmc/articles/PMC5180209/) anchoring motifs"
   ]
  }
 ],
 "metadata": {
  "kernelspec": {
   "display_name": "Python 3 (ipykernel)",
   "language": "python",
   "name": "python3"
  },
  "language_info": {
   "codemirror_mode": {
    "name": "ipython",
    "version": 3
   },
   "file_extension": ".py",
   "mimetype": "text/x-python",
   "name": "python",
   "nbconvert_exporter": "python",
   "pygments_lexer": "ipython3",
   "version": "3.9.13"
  }
 },
 "nbformat": 4,
 "nbformat_minor": 5
}
