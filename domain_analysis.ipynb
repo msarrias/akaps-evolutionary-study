{
 "cells": [
  {
   "cell_type": "code",
   "execution_count": 1,
   "id": "bbdbec44",
   "metadata": {},
   "outputs": [],
   "source": [
    "%load_ext autoreload\n",
    "%autoreload 2\n",
    "from fun import *"
   ]
  },
  {
   "cell_type": "markdown",
   "id": "5cb7d82f",
   "metadata": {},
   "source": [
    "### AKAP79 \n",
    "### Binding partners:"
   ]
  },
  {
   "cell_type": "code",
   "execution_count": 2,
   "id": "33807150",
   "metadata": {},
   "outputs": [],
   "source": [
    "ref = 'Homo_sapiens_akap5'"
   ]
  },
  {
   "cell_type": "code",
   "execution_count": 3,
   "id": "b806e648",
   "metadata": {},
   "outputs": [],
   "source": [
    "# Multiple Sequence Alignment using MUSCLE\n",
    "seq_filename = 'data/akap5_seq.fa'\n",
    "msa_filename = 'data/msa/akap5_seq_align.fa'\n",
    "# subprocess.call([\"muscle\",\"-align\", seq_filename, \"--output\", msa_filename], \n",
    "#                 stdout=subprocess.DEVNULL,\n",
    "#                 stderr=subprocess.STDOUT)"
   ]
  },
  {
   "cell_type": "code",
   "execution_count": 4,
   "id": "62d7f4f7",
   "metadata": {},
   "outputs": [],
   "source": [
    "# Parse msa\n",
    "akap5_seqs = {fasta.id:str(fasta.seq) for fasta in SeqIO.parse(open(seq_filename),'fasta')}\n",
    "akap5_msa_seqs = {fasta.id:str(fasta.seq) for fasta in SeqIO.parse(open(msa_filename),'fasta')}"
   ]
  },
  {
   "cell_type": "markdown",
   "id": "023ac7c9",
   "metadata": {},
   "source": [
    "#### 1. Calmodulin (CaM) - WSK domain - [Patel et al. Nature (2017)](https://www.nature.com/articles/s41467-017-01715-w)"
   ]
  },
  {
   "cell_type": "code",
   "execution_count": 5,
   "id": "aa677220",
   "metadata": {},
   "outputs": [],
   "source": [
    "base_string = 'RGAWASLKRLVTRRKRSESSKQQKPLEGEM'\n",
    "compiled_regex = re.compile('(-)*'.join(list(base_string)))\n",
    "start, end = compiled_regex.search(akap5_msa_seqs[ref]).span()"
   ]
  },
  {
   "cell_type": "code",
   "execution_count": 6,
   "id": "ad1e072f",
   "metadata": {},
   "outputs": [
    {
     "name": "stdout",
     "output_type": "stream",
     "text": [
      "Canis_lupu \u001b[30m\u001b[47m\u001b[43mG\u001b[47m\u001b[43mG\u001b[47m\u001b[44mA\u001b[47m\u001b[44mW\u001b[47m\u001b[44mA\u001b[47m\u001b[42mS\u001b[47m\u001b[44mI\u001b[47m\u001b[41mK\u001b[47m\u001b[41mR\u001b[47m\u001b[44mL\u001b[47m\u001b[44mV\u001b[47m\u001b[42mT\u001b[47m\u001b[41mR\u001b[47m\u001b[41mR\u001b[47m\u001b[41mK\u001b[47m\u001b[41mR\u001b[47m\u001b[42mS\u001b[47m\u001b[45mE\u001b[47m\u001b[42mS\u001b[47m\u001b[47m-\u001b[47m\u001b[42mS\u001b[47m\u001b[41mK\u001b[47m\u001b[47m-\u001b[47m\u001b[42mQ\u001b[47m\u001b[42mQ\u001b[47m\u001b[41mK\u001b[47m\u001b[44mL\u001b[47m\u001b[44mF\u001b[47m\u001b[45mE\u001b[47m\u001b[44mA\u001b[47m\u001b[41mK\u001b[47m\u001b[44mV\u001b[47m\u001b[0m\n",
      "Anolis_car \u001b[30m\u001b[47m\u001b[43mG\u001b[47m\u001b[43mG\u001b[47m\u001b[44mA\u001b[47m\u001b[44mW\u001b[47m\u001b[44mL\u001b[47m\u001b[44mA\u001b[47m\u001b[44mF\u001b[47m\u001b[41mK\u001b[47m\u001b[41mR\u001b[47m\u001b[44mL\u001b[47m\u001b[44mV\u001b[47m\u001b[42mT\u001b[47m\u001b[42mS\u001b[47m\u001b[41mR\u001b[47m\u001b[41mR\u001b[47m\u001b[41mR\u001b[47m\u001b[42mS\u001b[47m\u001b[41mK\u001b[47m\u001b[42mS\u001b[47m\u001b[44mV\u001b[47m\u001b[44mL\u001b[47m\u001b[41mK\u001b[47m\u001b[41mK\u001b[47m\u001b[42mQ\u001b[47m\u001b[42mQ\u001b[47m\u001b[42mQ\u001b[47m\u001b[42mS\u001b[47m\u001b[43mG\u001b[47m\u001b[43mG\u001b[47m\u001b[42mS\u001b[47m\u001b[41mR\u001b[47m\u001b[44mV\u001b[47m\u001b[0m\n",
      "Sus_scrofa \u001b[30m\u001b[47m\u001b[43mG\u001b[47m\u001b[43mG\u001b[47m\u001b[44mA\u001b[47m\u001b[44mW\u001b[47m\u001b[44mV\u001b[47m\u001b[42mS\u001b[47m\u001b[44mV\u001b[47m\u001b[41mK\u001b[47m\u001b[41mR\u001b[47m\u001b[44mL\u001b[47m\u001b[44mI\u001b[47m\u001b[42mT\u001b[47m\u001b[44mC\u001b[47m\u001b[41mR\u001b[47m\u001b[41mK\u001b[47m\u001b[41mR\u001b[47m\u001b[42mS\u001b[47m\u001b[45mD\u001b[47m\u001b[42mS\u001b[47m\u001b[47m-\u001b[47m\u001b[42mS\u001b[47m\u001b[41mK\u001b[47m\u001b[47m-\u001b[47m\u001b[42mQ\u001b[47m\u001b[42mQ\u001b[47m\u001b[41mK\u001b[47m\u001b[43mP\u001b[47m\u001b[44mC\u001b[47m\u001b[41mK\u001b[47m\u001b[44mA\u001b[47m\u001b[41mK\u001b[47m\u001b[44mV\u001b[47m\u001b[0m\n",
      "Homo_sapie \u001b[30m\u001b[47m\u001b[41mR\u001b[47m\u001b[43mG\u001b[47m\u001b[44mA\u001b[47m\u001b[44mW\u001b[47m\u001b[44mA\u001b[47m\u001b[42mS\u001b[47m\u001b[44mL\u001b[47m\u001b[41mK\u001b[47m\u001b[41mR\u001b[47m\u001b[44mL\u001b[47m\u001b[44mV\u001b[47m\u001b[42mT\u001b[47m\u001b[41mR\u001b[47m\u001b[41mR\u001b[47m\u001b[41mK\u001b[47m\u001b[41mR\u001b[47m\u001b[42mS\u001b[47m\u001b[45mE\u001b[47m\u001b[42mS\u001b[47m\u001b[47m-\u001b[47m\u001b[42mS\u001b[47m\u001b[41mK\u001b[47m\u001b[47m-\u001b[47m\u001b[42mQ\u001b[47m\u001b[42mQ\u001b[47m\u001b[41mK\u001b[47m\u001b[43mP\u001b[47m\u001b[44mL\u001b[47m\u001b[45mE\u001b[47m\u001b[43mG\u001b[47m\u001b[45mE\u001b[47m\u001b[44mM\u001b[47m\u001b[0m\n",
      "Gallus_gal \u001b[30m\u001b[47m\u001b[41mR\u001b[47m\u001b[43mG\u001b[47m\u001b[44mA\u001b[47m\u001b[44mW\u001b[47m\u001b[44mA\u001b[47m\u001b[44mA\u001b[47m\u001b[44mL\u001b[47m\u001b[41mK\u001b[47m\u001b[42mS\u001b[47m\u001b[44mL\u001b[47m\u001b[42mT\u001b[47m\u001b[41mK\u001b[47m\u001b[43mP\u001b[47m\u001b[41mR\u001b[47m\u001b[41mR\u001b[47m\u001b[43mG\u001b[47m\u001b[42mQ\u001b[47m\u001b[41mK\u001b[47m\u001b[42mS\u001b[47m\u001b[42mS\u001b[47m\u001b[42mS\u001b[47m\u001b[41mR\u001b[47m\u001b[47m-\u001b[47m\u001b[41mK\u001b[47m\u001b[41mK\u001b[47m\u001b[44mV\u001b[47m\u001b[42mS\u001b[47m\u001b[42mS\u001b[47m\u001b[45mD\u001b[47m\u001b[42mS\u001b[47m\u001b[42mQ\u001b[47m\u001b[44mV\u001b[47m\u001b[0m\n",
      "Mus_muscul \u001b[30m\u001b[47m\u001b[44mA\u001b[47m\u001b[43mG\u001b[47m\u001b[44mA\u001b[47m\u001b[44mW\u001b[47m\u001b[44mA\u001b[47m\u001b[42mS\u001b[47m\u001b[44mI\u001b[47m\u001b[41mK\u001b[47m\u001b[43mG\u001b[47m\u001b[44mL\u001b[47m\u001b[44mV\u001b[47m\u001b[42mT\u001b[47m\u001b[46mH\u001b[47m\u001b[41mR\u001b[47m\u001b[41mK\u001b[47m\u001b[41mR\u001b[47m\u001b[42mS\u001b[47m\u001b[45mE\u001b[47m\u001b[43mP\u001b[47m\u001b[47m-\u001b[47m\u001b[44mA\u001b[47m\u001b[41mK\u001b[47m\u001b[47m-\u001b[47m\u001b[41mK\u001b[47m\u001b[42mQ\u001b[47m\u001b[41mK\u001b[47m\u001b[43mP\u001b[47m\u001b[43mP\u001b[47m\u001b[45mE\u001b[47m\u001b[44mA\u001b[47m\u001b[45mE\u001b[47m\u001b[44mV\u001b[47m\u001b[0m\n",
      "Bos_taurus \u001b[30m\u001b[47m\u001b[43mG\u001b[47m\u001b[43mG\u001b[47m\u001b[44mA\u001b[47m\u001b[44mW\u001b[47m\u001b[45mD\u001b[47m\u001b[42mS\u001b[47m\u001b[44mI\u001b[47m\u001b[41mK\u001b[47m\u001b[41mR\u001b[47m\u001b[44mL\u001b[47m\u001b[44mV\u001b[47m\u001b[42mT\u001b[47m\u001b[41mR\u001b[47m\u001b[41mR\u001b[47m\u001b[41mK\u001b[47m\u001b[41mR\u001b[47m\u001b[42mS\u001b[47m\u001b[45mE\u001b[47m\u001b[42mS\u001b[47m\u001b[47m-\u001b[47m\u001b[42mS\u001b[47m\u001b[41mK\u001b[47m\u001b[47m-\u001b[47m\u001b[42mQ\u001b[47m\u001b[42mQ\u001b[47m\u001b[41mK\u001b[47m\u001b[43mP\u001b[47m\u001b[44mF\u001b[47m\u001b[41mK\u001b[47m\u001b[44mA\u001b[47m\u001b[41mK\u001b[47m\u001b[44mL\u001b[47m\u001b[0m\n",
      "Taeniopygi \u001b[30m\u001b[47m\u001b[41mK\u001b[47m\u001b[43mG\u001b[47m\u001b[42mT\u001b[47m\u001b[44mW\u001b[47m\u001b[44mA\u001b[47m\u001b[44mA\u001b[47m\u001b[44mI\u001b[47m\u001b[41mK\u001b[47m\u001b[42mS\u001b[47m\u001b[44mL\u001b[47m\u001b[44mA\u001b[47m\u001b[41mR\u001b[47m\u001b[43mP\u001b[47m\u001b[42mQ\u001b[47m\u001b[41mR\u001b[47m\u001b[41mR\u001b[47m\u001b[42mQ\u001b[47m\u001b[41mK\u001b[47m\u001b[42mS\u001b[47m\u001b[42mS\u001b[47m\u001b[42mS\u001b[47m\u001b[41mR\u001b[47m\u001b[47m-\u001b[47m\u001b[41mK\u001b[47m\u001b[41mK\u001b[47m\u001b[44mV\u001b[47m\u001b[43mP\u001b[47m\u001b[42mS\u001b[47m\u001b[45mD\u001b[47m\u001b[42mS\u001b[47m\u001b[42mQ\u001b[47m\u001b[44mV\u001b[47m\u001b[0m\n",
      "Ornithorhy \u001b[30m\u001b[47m\u001b[42mQ\u001b[47m\u001b[43mG\u001b[47m\u001b[44mA\u001b[47m\u001b[44mW\u001b[47m\u001b[44mA\u001b[47m\u001b[44mA\u001b[47m\u001b[44mI\u001b[47m\u001b[41mK\u001b[47m\u001b[46mH\u001b[47m\u001b[44mL\u001b[47m\u001b[44mV\u001b[47m\u001b[43mP\u001b[47m\u001b[46mH\u001b[47m\u001b[41mR\u001b[47m\u001b[41mK\u001b[47m\u001b[41mR\u001b[47m\u001b[42mS\u001b[47m\u001b[42mS\u001b[47m\u001b[42mS\u001b[47m\u001b[42mS\u001b[47m\u001b[42mS\u001b[47m\u001b[41mK\u001b[47m\u001b[47m-\u001b[47m\u001b[41mK\u001b[47m\u001b[42mQ\u001b[47m\u001b[41mR\u001b[47m\u001b[44mC\u001b[47m\u001b[42mS\u001b[47m\u001b[45mE\u001b[47m\u001b[44mA\u001b[47m\u001b[42mT\u001b[47m\u001b[45mE\u001b[47m\u001b[0m\n",
      "Xenopus_tr \u001b[30m\u001b[47m\u001b[43mG\u001b[47m\u001b[41mK\u001b[47m\u001b[42mT\u001b[47m\u001b[44mW\u001b[47m\u001b[44mA\u001b[47m\u001b[42mT\u001b[47m\u001b[44mF\u001b[47m\u001b[41mK\u001b[47m\u001b[41mR\u001b[47m\u001b[44mL\u001b[47m\u001b[44mV\u001b[47m\u001b[42mT\u001b[47m\u001b[46mH\u001b[47m\u001b[41mK\u001b[47m\u001b[41mK\u001b[47m\u001b[41mK\u001b[47m\u001b[41mR\u001b[47m\u001b[46mH\u001b[47m\u001b[42mS\u001b[47m\u001b[42mS\u001b[47m\u001b[44mL\u001b[47m\u001b[41mK\u001b[47m\u001b[47m-\u001b[47m\u001b[42mQ\u001b[47m\u001b[42mQ\u001b[47m\u001b[42mS\u001b[47m\u001b[42mQ\u001b[47m\u001b[44mM\u001b[47m\u001b[42mN\u001b[47m\u001b[42mS\u001b[47m\u001b[42mQ\u001b[47m\u001b[42mN\u001b[47m\u001b[0m\n",
      "Monodelphi \u001b[30m\u001b[47m\u001b[43mG\u001b[47m\u001b[43mG\u001b[47m\u001b[42mT\u001b[47m\u001b[44mW\u001b[47m\u001b[44mA\u001b[47m\u001b[42mS\u001b[47m\u001b[44mI\u001b[47m\u001b[41mR\u001b[47m\u001b[41mR\u001b[47m\u001b[44mL\u001b[47m\u001b[44mI\u001b[47m\u001b[42mT\u001b[47m\u001b[41mR\u001b[47m\u001b[42mQ\u001b[47m\u001b[41mK\u001b[47m\u001b[41mR\u001b[47m\u001b[42mS\u001b[47m\u001b[41mK\u001b[47m\u001b[42mS\u001b[47m\u001b[47m-\u001b[47m\u001b[42mS\u001b[47m\u001b[41mK\u001b[47m\u001b[47m-\u001b[47m\u001b[41mK\u001b[47m\u001b[42mQ\u001b[47m\u001b[44mV\u001b[47m\u001b[43mP\u001b[47m\u001b[44mL\u001b[47m\u001b[45mD\u001b[47m\u001b[44mA\u001b[47m\u001b[41mK\u001b[47m\u001b[44mA\u001b[47m\u001b[0m\n",
      "          0↑                 20↑\n"
     ]
    }
   ],
   "source": [
    "seq_domain_alignment(akap5_msa_seqs, start, end)"
   ]
  },
  {
   "cell_type": "markdown",
   "id": "e02cbfa0",
   "metadata": {},
   "source": [
    "#### 2. Calcineurin (PP2B) - PIAIIT motif- [ref](http://slim.icr.ac.uk/motifs/calcineurin/index.php?page=overview#pixixt)"
   ]
  },
  {
   "cell_type": "code",
   "execution_count": 7,
   "id": "dad6492e",
   "metadata": {},
   "outputs": [],
   "source": [
    "base_string = 'MEPIAIIITDTE'\n",
    "compiled_regex = re.compile('(-)*'.join(list(base_string)))\n",
    "start, end = compiled_regex.search(akap5_msa_seqs[ref]).span()"
   ]
  },
  {
   "cell_type": "code",
   "execution_count": 8,
   "id": "f8b5bfa0",
   "metadata": {},
   "outputs": [
    {
     "name": "stdout",
     "output_type": "stream",
     "text": [
      "Canis_lupu \u001b[30m\u001b[47m\u001b[44mM\u001b[47m\u001b[45mE\u001b[47m\u001b[43mP\u001b[47m\u001b[44mI\u001b[47m\u001b[44mA\u001b[47m\u001b[44mI\u001b[47m\u001b[44mI\u001b[47m\u001b[44mI\u001b[47m\u001b[42mT\u001b[47m\u001b[45mD\u001b[47m\u001b[42mT\u001b[47m\u001b[45mE\u001b[47m\u001b[0m\n",
      "Anolis_car \u001b[30m\u001b[47m\u001b[44mM\u001b[47m\u001b[43mP\u001b[47m\u001b[44mA\u001b[47m\u001b[44mA\u001b[47m\u001b[43mG\u001b[47m\u001b[44mI\u001b[47m\u001b[44mM\u001b[47m\u001b[44mI\u001b[47m\u001b[44mM\u001b[47m\u001b[44mI\u001b[47m\u001b[42mT\u001b[47m\u001b[45mE\u001b[47m\u001b[0m\n",
      "Sus_scrofa \u001b[30m\u001b[47m\u001b[44mM\u001b[47m\u001b[45mE\u001b[47m\u001b[43mP\u001b[47m\u001b[44mI\u001b[47m\u001b[44mA\u001b[47m\u001b[44mI\u001b[47m\u001b[44mI\u001b[47m\u001b[44mI\u001b[47m\u001b[42mT\u001b[47m\u001b[45mD\u001b[47m\u001b[42mT\u001b[47m\u001b[45mE\u001b[47m\u001b[0m\n",
      "Homo_sapie \u001b[30m\u001b[47m\u001b[44mM\u001b[47m\u001b[45mE\u001b[47m\u001b[43mP\u001b[47m\u001b[44mI\u001b[47m\u001b[44mA\u001b[47m\u001b[44mI\u001b[47m\u001b[44mI\u001b[47m\u001b[44mI\u001b[47m\u001b[42mT\u001b[47m\u001b[45mD\u001b[47m\u001b[42mT\u001b[47m\u001b[45mE\u001b[47m\u001b[0m\n",
      "Gallus_gal \u001b[30m\u001b[47m\u001b[43mG\u001b[47m\u001b[42mT\u001b[47m\u001b[43mG\u001b[47m\u001b[44mV\u001b[47m\u001b[43mG\u001b[47m\u001b[44mI\u001b[47m\u001b[44mV\u001b[47m\u001b[44mI\u001b[47m\u001b[42mT\u001b[47m\u001b[44mI\u001b[47m\u001b[42mT\u001b[47m\u001b[45mE\u001b[47m\u001b[0m\n",
      "Mus_muscul \u001b[30m\u001b[47m\u001b[44mM\u001b[47m\u001b[45mE\u001b[47m\u001b[43mP\u001b[47m\u001b[44mI\u001b[47m\u001b[44mA\u001b[47m\u001b[44mI\u001b[47m\u001b[44mI\u001b[47m\u001b[44mI\u001b[47m\u001b[42mT\u001b[47m\u001b[45mD\u001b[47m\u001b[42mT\u001b[47m\u001b[45mE\u001b[47m\u001b[0m\n",
      "Bos_taurus \u001b[30m\u001b[47m\u001b[44mM\u001b[47m\u001b[45mE\u001b[47m\u001b[43mP\u001b[47m\u001b[44mI\u001b[47m\u001b[44mA\u001b[47m\u001b[44mI\u001b[47m\u001b[44mI\u001b[47m\u001b[44mI\u001b[47m\u001b[42mT\u001b[47m\u001b[45mD\u001b[47m\u001b[42mT\u001b[47m\u001b[45mE\u001b[47m\u001b[0m\n",
      "Taeniopygi \u001b[30m\u001b[47m\u001b[43mG\u001b[47m\u001b[42mT\u001b[47m\u001b[43mG\u001b[47m\u001b[44mV\u001b[47m\u001b[42mS\u001b[47m\u001b[44mI\u001b[47m\u001b[44mI\u001b[47m\u001b[44mI\u001b[47m\u001b[42mT\u001b[47m\u001b[44mI\u001b[47m\u001b[42mT\u001b[47m\u001b[45mE\u001b[47m\u001b[0m\n",
      "Ornithorhy \u001b[30m\u001b[47m\u001b[44mM\u001b[47m\u001b[45mE\u001b[47m\u001b[43mP\u001b[47m\u001b[44mI\u001b[47m\u001b[44mA\u001b[47m\u001b[44mI\u001b[47m\u001b[44mI\u001b[47m\u001b[44mI\u001b[47m\u001b[42mT\u001b[47m\u001b[45mD\u001b[47m\u001b[42mT\u001b[47m\u001b[45mE\u001b[47m\u001b[0m\n",
      "Xenopus_tr \u001b[30m\u001b[47m\u001b[47m-\u001b[47m\u001b[47m-\u001b[47m\u001b[47m-\u001b[47m\u001b[47m-\u001b[47m\u001b[47m-\u001b[47m\u001b[47m-\u001b[47m\u001b[47m-\u001b[47m\u001b[47m-\u001b[47m\u001b[47m-\u001b[47m\u001b[47m-\u001b[47m\u001b[47m-\u001b[47m\u001b[47m-\u001b[47m\u001b[0m\n",
      "Monodelphi \u001b[30m\u001b[47m\u001b[44mM\u001b[47m\u001b[45mE\u001b[47m\u001b[43mP\u001b[47m\u001b[44mI\u001b[47m\u001b[44mA\u001b[47m\u001b[44mI\u001b[47m\u001b[44mI\u001b[47m\u001b[44mV\u001b[47m\u001b[42mT\u001b[47m\u001b[45mD\u001b[47m\u001b[42mT\u001b[47m\u001b[45mE\u001b[47m\u001b[0m\n",
      "          0↑\n"
     ]
    }
   ],
   "source": [
    "seq_domain_alignment(akap5_msa_seqs, start, end)"
   ]
  },
  {
   "cell_type": "markdown",
   "id": "8b5df183",
   "metadata": {},
   "source": [
    "#### 3. PKA - RII binding domain- [Church et al. eLife (2021)](https://elifesciences.org/articles/68164)"
   ]
  },
  {
   "cell_type": "code",
   "execution_count": 9,
   "id": "b549e3f7",
   "metadata": {},
   "outputs": [],
   "source": [
    "base_string = 'LLIETASSLVKNAIQLSIEQL'\n",
    "compiled_regex = re.compile('(-)*'.join(list(base_string)))\n",
    "start, end = compiled_regex.search(akap5_msa_seqs[ref]).span()"
   ]
  },
  {
   "cell_type": "code",
   "execution_count": 10,
   "id": "9e2f846d",
   "metadata": {},
   "outputs": [
    {
     "name": "stdout",
     "output_type": "stream",
     "text": [
      "Canis_lupu \u001b[30m\u001b[47m\u001b[44mL\u001b[47m\u001b[44mL\u001b[47m\u001b[44mI\u001b[47m\u001b[45mE\u001b[47m\u001b[42mT\u001b[47m\u001b[44mA\u001b[47m\u001b[42mS\u001b[47m\u001b[42mS\u001b[47m\u001b[44mL\u001b[47m\u001b[44mV\u001b[47m\u001b[41mK\u001b[47m\u001b[42mN\u001b[47m\u001b[44mA\u001b[47m\u001b[44mI\u001b[47m\u001b[42mQ\u001b[47m\u001b[44mL\u001b[47m\u001b[42mS\u001b[47m\u001b[44mI\u001b[47m\u001b[45mE\u001b[47m\u001b[42mQ\u001b[47m\u001b[44mL\u001b[47m\u001b[0m\n",
      "Anolis_car \u001b[30m\u001b[47m\u001b[44mL\u001b[47m\u001b[44mL\u001b[47m\u001b[44mI\u001b[47m\u001b[45mE\u001b[47m\u001b[42mT\u001b[47m\u001b[44mA\u001b[47m\u001b[44mA\u001b[47m\u001b[42mS\u001b[47m\u001b[44mL\u001b[47m\u001b[44mV\u001b[47m\u001b[41mK\u001b[47m\u001b[44mA\u001b[47m\u001b[44mA\u001b[47m\u001b[44mI\u001b[47m\u001b[42mQ\u001b[47m\u001b[42mS\u001b[47m\u001b[42mS\u001b[47m\u001b[44mI\u001b[47m\u001b[45mE\u001b[47m\u001b[42mQ\u001b[47m\u001b[44mL\u001b[47m\u001b[0m\n",
      "Sus_scrofa \u001b[30m\u001b[47m\u001b[44mL\u001b[47m\u001b[44mL\u001b[47m\u001b[44mI\u001b[47m\u001b[45mE\u001b[47m\u001b[42mT\u001b[47m\u001b[44mA\u001b[47m\u001b[42mS\u001b[47m\u001b[42mS\u001b[47m\u001b[44mL\u001b[47m\u001b[44mV\u001b[47m\u001b[41mK\u001b[47m\u001b[42mN\u001b[47m\u001b[44mA\u001b[47m\u001b[44mI\u001b[47m\u001b[42mQ\u001b[47m\u001b[44mL\u001b[47m\u001b[42mS\u001b[47m\u001b[44mI\u001b[47m\u001b[45mE\u001b[47m\u001b[42mQ\u001b[47m\u001b[44mL\u001b[47m\u001b[0m\n",
      "Homo_sapie \u001b[30m\u001b[47m\u001b[44mL\u001b[47m\u001b[44mL\u001b[47m\u001b[44mI\u001b[47m\u001b[45mE\u001b[47m\u001b[42mT\u001b[47m\u001b[44mA\u001b[47m\u001b[42mS\u001b[47m\u001b[42mS\u001b[47m\u001b[44mL\u001b[47m\u001b[44mV\u001b[47m\u001b[41mK\u001b[47m\u001b[42mN\u001b[47m\u001b[44mA\u001b[47m\u001b[44mI\u001b[47m\u001b[42mQ\u001b[47m\u001b[44mL\u001b[47m\u001b[42mS\u001b[47m\u001b[44mI\u001b[47m\u001b[45mE\u001b[47m\u001b[42mQ\u001b[47m\u001b[44mL\u001b[47m\u001b[0m\n",
      "Gallus_gal \u001b[30m\u001b[47m\u001b[44mL\u001b[47m\u001b[44mL\u001b[47m\u001b[44mI\u001b[47m\u001b[45mE\u001b[47m\u001b[42mT\u001b[47m\u001b[44mA\u001b[47m\u001b[42mS\u001b[47m\u001b[42mS\u001b[47m\u001b[44mL\u001b[47m\u001b[44mV\u001b[47m\u001b[41mK\u001b[47m\u001b[44mA\u001b[47m\u001b[44mA\u001b[47m\u001b[44mI\u001b[47m\u001b[42mQ\u001b[47m\u001b[42mS\u001b[47m\u001b[42mS\u001b[47m\u001b[44mI\u001b[47m\u001b[45mE\u001b[47m\u001b[42mQ\u001b[47m\u001b[44mL\u001b[47m\u001b[0m\n",
      "Mus_muscul \u001b[30m\u001b[47m\u001b[44mL\u001b[47m\u001b[44mL\u001b[47m\u001b[44mI\u001b[47m\u001b[45mE\u001b[47m\u001b[42mT\u001b[47m\u001b[44mA\u001b[47m\u001b[42mS\u001b[47m\u001b[42mS\u001b[47m\u001b[44mL\u001b[47m\u001b[44mV\u001b[47m\u001b[41mK\u001b[47m\u001b[42mN\u001b[47m\u001b[44mA\u001b[47m\u001b[44mI\u001b[47m\u001b[45mE\u001b[47m\u001b[44mL\u001b[47m\u001b[42mS\u001b[47m\u001b[44mV\u001b[47m\u001b[45mE\u001b[47m\u001b[42mQ\u001b[47m\u001b[44mL\u001b[47m\u001b[0m\n",
      "Bos_taurus \u001b[30m\u001b[47m\u001b[44mL\u001b[47m\u001b[44mL\u001b[47m\u001b[44mI\u001b[47m\u001b[45mE\u001b[47m\u001b[42mT\u001b[47m\u001b[44mA\u001b[47m\u001b[42mS\u001b[47m\u001b[42mS\u001b[47m\u001b[44mL\u001b[47m\u001b[44mV\u001b[47m\u001b[41mK\u001b[47m\u001b[42mN\u001b[47m\u001b[44mA\u001b[47m\u001b[44mI\u001b[47m\u001b[42mQ\u001b[47m\u001b[44mL\u001b[47m\u001b[42mS\u001b[47m\u001b[44mI\u001b[47m\u001b[45mE\u001b[47m\u001b[42mQ\u001b[47m\u001b[44mL\u001b[47m\u001b[0m\n",
      "Taeniopygi \u001b[30m\u001b[47m\u001b[44mL\u001b[47m\u001b[44mL\u001b[47m\u001b[44mI\u001b[47m\u001b[45mE\u001b[47m\u001b[42mT\u001b[47m\u001b[44mA\u001b[47m\u001b[42mS\u001b[47m\u001b[42mS\u001b[47m\u001b[44mL\u001b[47m\u001b[44mV\u001b[47m\u001b[41mK\u001b[47m\u001b[44mA\u001b[47m\u001b[44mA\u001b[47m\u001b[44mI\u001b[47m\u001b[42mQ\u001b[47m\u001b[42mS\u001b[47m\u001b[42mS\u001b[47m\u001b[44mI\u001b[47m\u001b[45mE\u001b[47m\u001b[42mQ\u001b[47m\u001b[44mL\u001b[47m\u001b[0m\n",
      "Ornithorhy \u001b[30m\u001b[47m\u001b[44mL\u001b[47m\u001b[44mL\u001b[47m\u001b[44mI\u001b[47m\u001b[45mE\u001b[47m\u001b[42mT\u001b[47m\u001b[44mA\u001b[47m\u001b[42mS\u001b[47m\u001b[42mS\u001b[47m\u001b[44mL\u001b[47m\u001b[44mV\u001b[47m\u001b[41mK\u001b[47m\u001b[41mK\u001b[47m\u001b[44mA\u001b[47m\u001b[44mI\u001b[47m\u001b[42mQ\u001b[47m\u001b[44mL\u001b[47m\u001b[42mS\u001b[47m\u001b[44mV\u001b[47m\u001b[45mE\u001b[47m\u001b[42mQ\u001b[47m\u001b[44mL\u001b[47m\u001b[0m\n",
      "Xenopus_tr \u001b[30m\u001b[47m\u001b[44mL\u001b[47m\u001b[44mL\u001b[47m\u001b[44mI\u001b[47m\u001b[42mT\u001b[47m\u001b[42mT\u001b[47m\u001b[44mA\u001b[47m\u001b[44mA\u001b[47m\u001b[42mT\u001b[47m\u001b[44mL\u001b[47m\u001b[44mV\u001b[47m\u001b[41mK\u001b[47m\u001b[41mK\u001b[47m\u001b[44mV\u001b[47m\u001b[44mL\u001b[47m\u001b[42mQ\u001b[47m\u001b[44mA\u001b[47m\u001b[42mS\u001b[47m\u001b[44mI\u001b[47m\u001b[42mQ\u001b[47m\u001b[42mQ\u001b[47m\u001b[44mL\u001b[47m\u001b[0m\n",
      "Monodelphi \u001b[30m\u001b[47m\u001b[44mL\u001b[47m\u001b[44mL\u001b[47m\u001b[44mM\u001b[47m\u001b[45mE\u001b[47m\u001b[42mT\u001b[47m\u001b[44mA\u001b[47m\u001b[42mS\u001b[47m\u001b[42mS\u001b[47m\u001b[44mL\u001b[47m\u001b[44mV\u001b[47m\u001b[41mK\u001b[47m\u001b[42mN\u001b[47m\u001b[44mA\u001b[47m\u001b[44mI\u001b[47m\u001b[42mQ\u001b[47m\u001b[44mL\u001b[47m\u001b[42mS\u001b[47m\u001b[44mV\u001b[47m\u001b[45mE\u001b[47m\u001b[42mQ\u001b[47m\u001b[44mL\u001b[47m\u001b[0m\n",
      "          0↑                 20↑\n"
     ]
    }
   ],
   "source": [
    "seq_domain_alignment(akap5_msa_seqs, start, end)"
   ]
  },
  {
   "cell_type": "markdown",
   "id": "b5fcdc29",
   "metadata": {},
   "source": [
    "#### 3. PKC binding - [Faux et al. jbc (1997)](https://www.jbc.org/article/S0021-9258(18)39328-1/pdf)"
   ]
  },
  {
   "cell_type": "code",
   "execution_count": 11,
   "id": "ffd0f27d",
   "metadata": {},
   "outputs": [],
   "source": [
    "base_string = 'KASMLCFKRRKKAAKALKPKAG'\n",
    "compiled_regex = re.compile('(-)*'.join(list(base_string)))\n",
    "start, end = compiled_regex.search(akap5_msa_seqs[ref]).span()"
   ]
  },
  {
   "cell_type": "code",
   "execution_count": 12,
   "id": "f04bb4fb",
   "metadata": {},
   "outputs": [
    {
     "name": "stdout",
     "output_type": "stream",
     "text": [
      "Canis_lupu \u001b[30m\u001b[47m\u001b[41mR\u001b[47m\u001b[44mA\u001b[47m\u001b[42mS\u001b[47m\u001b[44mV\u001b[47m\u001b[44mL\u001b[47m\u001b[44mC\u001b[47m\u001b[44mF\u001b[47m\u001b[41mK\u001b[47m\u001b[41mR\u001b[47m\u001b[41mR\u001b[47m\u001b[41mK\u001b[47m\u001b[41mK\u001b[47m\u001b[44mA\u001b[47m\u001b[42mT\u001b[47m\u001b[41mK\u001b[47m\u001b[44mA\u001b[47m\u001b[44mM\u001b[47m\u001b[41mK\u001b[47m\u001b[47m-\u001b[47m\u001b[43mP\u001b[47m\u001b[41mK\u001b[47m\u001b[44mA\u001b[47m\u001b[42mS\u001b[47m\u001b[0m\n",
      "Anolis_car \u001b[30m\u001b[47m\u001b[41mK\u001b[47m\u001b[44mA\u001b[47m\u001b[42mS\u001b[47m\u001b[44mV\u001b[47m\u001b[44mF\u001b[47m\u001b[44mC\u001b[47m\u001b[44mF\u001b[47m\u001b[41mK\u001b[47m\u001b[41mK\u001b[47m\u001b[41mR\u001b[47m\u001b[41mK\u001b[47m\u001b[41mK\u001b[47m\u001b[42mS\u001b[47m\u001b[44mC\u001b[47m\u001b[45mE\u001b[47m\u001b[41mK\u001b[47m\u001b[44mV\u001b[47m\u001b[44mA\u001b[47m\u001b[45mE\u001b[47m\u001b[41mK\u001b[47m\u001b[45mE\u001b[47m\u001b[45mE\u001b[47m\u001b[45mD\u001b[47m\u001b[0m\n",
      "Sus_scrofa \u001b[30m\u001b[47m\u001b[41mK\u001b[47m\u001b[44mA\u001b[47m\u001b[42mS\u001b[47m\u001b[44mM\u001b[47m\u001b[44mL\u001b[47m\u001b[44mC\u001b[47m\u001b[44mF\u001b[47m\u001b[41mK\u001b[47m\u001b[41mR\u001b[47m\u001b[41mR\u001b[47m\u001b[41mK\u001b[47m\u001b[41mK\u001b[47m\u001b[44mA\u001b[47m\u001b[42mT\u001b[47m\u001b[41mK\u001b[47m\u001b[44mA\u001b[47m\u001b[41mR\u001b[47m\u001b[41mK\u001b[47m\u001b[47m-\u001b[47m\u001b[43mP\u001b[47m\u001b[41mK\u001b[47m\u001b[44mA\u001b[47m\u001b[43mG\u001b[47m\u001b[0m\n",
      "Homo_sapie \u001b[30m\u001b[47m\u001b[41mK\u001b[47m\u001b[44mA\u001b[47m\u001b[42mS\u001b[47m\u001b[44mM\u001b[47m\u001b[44mL\u001b[47m\u001b[44mC\u001b[47m\u001b[44mF\u001b[47m\u001b[41mK\u001b[47m\u001b[41mR\u001b[47m\u001b[41mR\u001b[47m\u001b[41mK\u001b[47m\u001b[41mK\u001b[47m\u001b[44mA\u001b[47m\u001b[44mA\u001b[47m\u001b[41mK\u001b[47m\u001b[44mA\u001b[47m\u001b[44mL\u001b[47m\u001b[41mK\u001b[47m\u001b[47m-\u001b[47m\u001b[43mP\u001b[47m\u001b[41mK\u001b[47m\u001b[44mA\u001b[47m\u001b[43mG\u001b[47m\u001b[0m\n",
      "Gallus_gal \u001b[30m\u001b[47m\u001b[41mK\u001b[47m\u001b[43mP\u001b[47m\u001b[42mS\u001b[47m\u001b[44mM\u001b[47m\u001b[44mL\u001b[47m\u001b[44mC\u001b[47m\u001b[44mF\u001b[47m\u001b[41mK\u001b[47m\u001b[41mK\u001b[47m\u001b[41mR\u001b[47m\u001b[41mK\u001b[47m\u001b[41mK\u001b[47m\u001b[42mS\u001b[47m\u001b[44mC\u001b[47m\u001b[41mK\u001b[47m\u001b[41mK\u001b[47m\u001b[43mG\u001b[47m\u001b[44mL\u001b[47m\u001b[42mT\u001b[47m\u001b[42mT\u001b[47m\u001b[41mK\u001b[47m\u001b[45mD\u001b[47m\u001b[44mA\u001b[47m\u001b[0m\n",
      "Mus_muscul \u001b[30m\u001b[47m\u001b[41mK\u001b[47m\u001b[42mT\u001b[47m\u001b[44mA\u001b[47m\u001b[42mT\u001b[47m\u001b[44mL\u001b[47m\u001b[44mC\u001b[47m\u001b[44mF\u001b[47m\u001b[41mK\u001b[47m\u001b[41mR\u001b[47m\u001b[41mR\u001b[47m\u001b[41mK\u001b[47m\u001b[41mK\u001b[47m\u001b[44mA\u001b[47m\u001b[42mN\u001b[47m\u001b[41mK\u001b[47m\u001b[42mT\u001b[47m\u001b[47m-\u001b[47m\u001b[41mK\u001b[47m\u001b[47m-\u001b[47m\u001b[43mP\u001b[47m\u001b[41mK\u001b[47m\u001b[44mA\u001b[47m\u001b[43mG\u001b[47m\u001b[0m\n",
      "Bos_taurus \u001b[30m\u001b[47m\u001b[41mK\u001b[47m\u001b[44mA\u001b[47m\u001b[42mS\u001b[47m\u001b[44mM\u001b[47m\u001b[44mL\u001b[47m\u001b[44mC\u001b[47m\u001b[44mF\u001b[47m\u001b[41mK\u001b[47m\u001b[41mR\u001b[47m\u001b[41mR\u001b[47m\u001b[41mK\u001b[47m\u001b[41mK\u001b[47m\u001b[44mA\u001b[47m\u001b[44mA\u001b[47m\u001b[41mK\u001b[47m\u001b[44mA\u001b[47m\u001b[44mM\u001b[47m\u001b[41mK\u001b[47m\u001b[47m-\u001b[47m\u001b[43mP\u001b[47m\u001b[41mK\u001b[47m\u001b[44mA\u001b[47m\u001b[42mS\u001b[47m\u001b[0m\n",
      "Taeniopygi \u001b[30m\u001b[47m\u001b[41mK\u001b[47m\u001b[43mP\u001b[47m\u001b[42mS\u001b[47m\u001b[44mM\u001b[47m\u001b[44mL\u001b[47m\u001b[44mC\u001b[47m\u001b[44mF\u001b[47m\u001b[41mK\u001b[47m\u001b[41mK\u001b[47m\u001b[41mR\u001b[47m\u001b[41mK\u001b[47m\u001b[41mK\u001b[47m\u001b[42mS\u001b[47m\u001b[43mG\u001b[47m\u001b[41mK\u001b[47m\u001b[41mK\u001b[47m\u001b[43mG\u001b[47m\u001b[44mL\u001b[47m\u001b[44mA\u001b[47m\u001b[44mV\u001b[47m\u001b[41mK\u001b[47m\u001b[45mD\u001b[47m\u001b[44mA\u001b[47m\u001b[0m\n",
      "Ornithorhy \u001b[30m\u001b[47m\u001b[41mK\u001b[47m\u001b[42mS\u001b[47m\u001b[42mS\u001b[47m\u001b[44mF\u001b[47m\u001b[44mL\u001b[47m\u001b[44mC\u001b[47m\u001b[44mF\u001b[47m\u001b[41mK\u001b[47m\u001b[41mR\u001b[47m\u001b[41mK\u001b[47m\u001b[41mK\u001b[47m\u001b[41mK\u001b[47m\u001b[44mV\u001b[47m\u001b[44mV\u001b[47m\u001b[41mK\u001b[47m\u001b[44mA\u001b[47m\u001b[42mS\u001b[47m\u001b[41mK\u001b[47m\u001b[44mF\u001b[47m\u001b[42mS\u001b[47m\u001b[41mK\u001b[47m\u001b[45mD\u001b[47m\u001b[45mD\u001b[47m\u001b[0m\n",
      "Xenopus_tr \u001b[30m\u001b[47m\u001b[41mK\u001b[47m\u001b[43mP\u001b[47m\u001b[44mL\u001b[47m\u001b[41mK\u001b[47m\u001b[44mI\u001b[47m\u001b[44mC\u001b[47m\u001b[44mF\u001b[47m\u001b[41mK\u001b[47m\u001b[41mK\u001b[47m\u001b[41mR\u001b[47m\u001b[42mS\u001b[47m\u001b[41mK\u001b[47m\u001b[44mA\u001b[47m\u001b[44mL\u001b[47m\u001b[41mR\u001b[47m\u001b[41mK\u001b[47m\u001b[42mT\u001b[47m\u001b[42mS\u001b[47m\u001b[45mD\u001b[47m\u001b[42mS\u001b[47m\u001b[42mN\u001b[47m\u001b[45mD\u001b[47m\u001b[45mD\u001b[47m\u001b[0m\n",
      "Monodelphi \u001b[30m\u001b[47m\u001b[41mK\u001b[47m\u001b[44mA\u001b[47m\u001b[42mS\u001b[47m\u001b[44mM\u001b[47m\u001b[44mI\u001b[47m\u001b[44mC\u001b[47m\u001b[44mF\u001b[47m\u001b[41mK\u001b[47m\u001b[41mR\u001b[47m\u001b[41mR\u001b[47m\u001b[41mR\u001b[47m\u001b[41mK\u001b[47m\u001b[42mS\u001b[47m\u001b[44mV\u001b[47m\u001b[41mK\u001b[47m\u001b[44mA\u001b[47m\u001b[44mL\u001b[47m\u001b[41mK\u001b[47m\u001b[47m-\u001b[47m\u001b[42mS\u001b[47m\u001b[41mK\u001b[47m\u001b[42mN\u001b[47m\u001b[44mC\u001b[47m\u001b[0m\n",
      "          0↑                 20↑\n"
     ]
    }
   ],
   "source": [
    "seq_domain_alignment(akap5_msa_seqs, start, end)"
   ]
  }
 ],
 "metadata": {
  "kernelspec": {
   "display_name": "Python 3 (ipykernel)",
   "language": "python",
   "name": "python3"
  },
  "language_info": {
   "codemirror_mode": {
    "name": "ipython",
    "version": 3
   },
   "file_extension": ".py",
   "mimetype": "text/x-python",
   "name": "python",
   "nbconvert_exporter": "python",
   "pygments_lexer": "ipython3",
   "version": "3.9.13"
  }
 },
 "nbformat": 4,
 "nbformat_minor": 5
}
