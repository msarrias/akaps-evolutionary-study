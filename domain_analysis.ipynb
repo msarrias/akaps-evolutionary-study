{
 "cells": [
  {
   "cell_type": "code",
   "execution_count": 1,
   "id": "bbdbec44",
   "metadata": {},
   "outputs": [],
   "source": [
    "import subprocess, re\n",
    "from Bio import SeqIO"
   ]
  },
  {
   "cell_type": "markdown",
   "id": "023ac7c9",
   "metadata": {},
   "source": [
    "### WSK"
   ]
  },
  {
   "cell_type": "markdown",
   "id": "5cb7d82f",
   "metadata": {},
   "source": [
    "### AKAP79 [ref]([https://www.nature.com/articles/s41467-017-01715-w)"
   ]
  },
  {
   "cell_type": "code",
   "execution_count": 2,
   "id": "aa677220",
   "metadata": {},
   "outputs": [],
   "source": [
    "ref = 'Homo_sapiens_akap5'\n",
    "base_string = 'RGAWASLKRLVTRRKRSESSKQQKPLEGEM'\n",
    "compiled_regex = re.compile('(-)*'.join(list(base_string)))"
   ]
  },
  {
   "cell_type": "code",
   "execution_count": 3,
   "id": "b806e648",
   "metadata": {},
   "outputs": [
    {
     "data": {
      "text/plain": [
       "0"
      ]
     },
     "execution_count": 3,
     "metadata": {},
     "output_type": "execute_result"
    }
   ],
   "source": [
    "# Multiple Sequence Alignment using MUSCLE\n",
    "seq_filename = 'data/akap5_seq.fa'\n",
    "msa_filename = 'data/msa/akap5_seq_align.fa'\n",
    "subprocess.call([\"muscle\",\"-align\", seq_filename, \"--output\", msa_filename], \n",
    "                stdout=subprocess.DEVNULL,\n",
    "                stderr=subprocess.STDOUT)"
   ]
  },
  {
   "cell_type": "code",
   "execution_count": 4,
   "id": "62d7f4f7",
   "metadata": {},
   "outputs": [],
   "source": [
    "# Parse msa\n",
    "akap5_msa_seqs = {fasta.id:str(fasta.seq) for fasta in SeqIO.parse(open(msa_filename),'fasta')}\n",
    "start, end = compiled_regex.search(akap5_msa_seqs[ref]).span()"
   ]
  },
  {
   "cell_type": "code",
   "execution_count": 5,
   "id": "b2519d71",
   "metadata": {},
   "outputs": [
    {
     "name": "stdout",
     "output_type": "stream",
     "text": [
      "Canis_lupus_akap5              GGAWASIKRLVTRRKRSES-SK-QQKLFEAKV\n",
      "Anolis_carolinensis_akap5      GGAWLAFKRLVTSRRRSKSVLKKQQQSGGSRV\n",
      "Sus_scrofa_akap5               GGAWVSVKRLITCRKRSDS-SK-QQKPCKAKV\n",
      "Homo_sapiens_akap5             RGAWASLKRLVTRRKRSES-SK-QQKPLEGEM\n",
      "Gallus_gallus_akap5            RGAWAALKSLTKPRRGQKSSSR-KKVSSDSQV\n",
      "Mus_musculus_akap5             AGAWASIKGLVTHRKRSEP-AK-KQKPPEAEV\n",
      "Bos_taurus_akap5               GGAWDSIKRLVTRRKRSES-SK-QQKPFKAKL\n",
      "Taeniopygia_guttata_akap5      KGTWAAIKSLARPQRRQKSSSR-KKVPSDSQV\n",
      "Ornithorhynchus_anatinus_akap5 QGAWAAIKHLVPHRKRSSSSSK-KQRCSEATE\n",
      "Xenopus_tropicalis_akap5       GKTWATFKRLVTHKKKRHSSLK-QQSQMNSQN\n",
      "Monodelphis_domestica_akap5    GGTWASIRRLITRQKRSKS-SK-KQVPLDAKA\n"
     ]
    }
   ],
   "source": [
    "max_len = max([len(i) for i in list(akap5_msa_seqs.keys())])\n",
    "for specie, msa_seq in akap5_msa_seqs.items():\n",
    "    print(specie + ' ' *  (max_len - len(specie)), msa_seq[start:end])"
   ]
  }
 ],
 "metadata": {
  "kernelspec": {
   "display_name": "Python 3 (ipykernel)",
   "language": "python",
   "name": "python3"
  },
  "language_info": {
   "codemirror_mode": {
    "name": "ipython",
    "version": 3
   },
   "file_extension": ".py",
   "mimetype": "text/x-python",
   "name": "python",
   "nbconvert_exporter": "python",
   "pygments_lexer": "ipython3",
   "version": "3.9.13"
  }
 },
 "nbformat": 4,
 "nbformat_minor": 5
}
