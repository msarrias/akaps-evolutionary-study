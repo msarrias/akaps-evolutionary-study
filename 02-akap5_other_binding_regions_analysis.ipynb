{
 "cells": [
  {
   "cell_type": "code",
   "execution_count": 1,
   "id": "bbdbec44",
   "metadata": {},
   "outputs": [],
   "source": [
    "%load_ext autoreload\n",
    "%autoreload 2\n",
    "from fun import *\n",
    "os.environ['QT_QPA_PLATFORM']='offscreen'"
   ]
  },
  {
   "cell_type": "code",
   "execution_count": 2,
   "id": "155ff7b9",
   "metadata": {},
   "outputs": [],
   "source": [
    "seq_filename = 'fasta_files/akap5_seq_prot.fa'\n",
    "msa_filename = 'fasta_files/msa/akap5_seq_align.fa'\n",
    "AKAP79_model_species = binding_regions()\n",
    "#AKAP79_model_species.muscle_msa(seq_filename, msa_filename)\n",
    "# Parse msa and original sequences\n",
    "akap5_seqs = AKAP79_model_species.parse_fasta_file(seq_filename)\n",
    "akap5_msa = AKAP79_model_species.parse_fasta_file(msa_filename)"
   ]
  },
  {
   "cell_type": "markdown",
   "id": "5cb7d82f",
   "metadata": {},
   "source": [
    "### Binding partners:"
   ]
  },
  {
   "cell_type": "markdown",
   "id": "e02cbfa0",
   "metadata": {},
   "source": [
    "### 2. Calcineurin (PP2B) - PIAIIT motif- [ref](http://slim.icr.ac.uk/motifs/calcineurin/index.php?page=overview#pixixt)"
   ]
  },
  {
   "cell_type": "markdown",
   "id": "adf35205",
   "metadata": {},
   "source": [
    "#### msa of the reference binding region"
   ]
  },
  {
   "cell_type": "code",
   "execution_count": 3,
   "id": "b06c4405",
   "metadata": {},
   "outputs": [],
   "source": [
    "# We will use as a reference the human architecture\n",
    "ref = 'Homo_sapiens'\n",
    "# Calcineurin binding region \n",
    "base_string_piaiit = 'MEPIAIIITDTE'\n",
    "start, end = AKAP79_model_species.find_binding_region(base_string_piaiit, ref, akap5_msa)\n",
    "filename = 'fasta_files/binding_regions/AKAP5_PIAIIT.fa'\n",
    "regions_dict, aln = seq_domain_alignment(akap5_msa,\n",
    "                                         akap5_seqs,\n",
    "                                         start, end,\n",
    "                                         filename,\n",
    "                                        binding_partner = 'PIAIIT')"
   ]
  },
  {
   "cell_type": "code",
   "execution_count": 4,
   "id": "a7c22736",
   "metadata": {},
   "outputs": [
    {
     "name": "stdout",
     "output_type": "stream",
     "text": [
      "Ornithorhy \u001b[30m\u001b[47m\u001b[44mM\u001b[47m\u001b[45mE\u001b[47m\u001b[43mP\u001b[47m\u001b[44mI\u001b[47m\u001b[44mA\u001b[47m\u001b[44mI\u001b[47m\u001b[44mI\u001b[47m\u001b[44mI\u001b[47m\u001b[42mT\u001b[47m\u001b[45mD\u001b[47m\u001b[42mT\u001b[47m\u001b[45mE\u001b[47m\u001b[0m\n",
      "Monodelphi \u001b[30m\u001b[47m\u001b[44mM\u001b[47m\u001b[45mE\u001b[47m\u001b[43mP\u001b[47m\u001b[44mI\u001b[47m\u001b[44mA\u001b[47m\u001b[44mI\u001b[47m\u001b[44mI\u001b[47m\u001b[44mV\u001b[47m\u001b[42mT\u001b[47m\u001b[45mD\u001b[47m\u001b[42mT\u001b[47m\u001b[45mE\u001b[47m\u001b[0m\n",
      "Mus_muscul \u001b[30m\u001b[47m\u001b[44mM\u001b[47m\u001b[45mE\u001b[47m\u001b[43mP\u001b[47m\u001b[44mI\u001b[47m\u001b[44mA\u001b[47m\u001b[44mI\u001b[47m\u001b[44mI\u001b[47m\u001b[44mI\u001b[47m\u001b[42mT\u001b[47m\u001b[45mD\u001b[47m\u001b[42mT\u001b[47m\u001b[45mE\u001b[47m\u001b[0m\n",
      "Homo_sapie \u001b[30m\u001b[47m\u001b[44mM\u001b[47m\u001b[45mE\u001b[47m\u001b[43mP\u001b[47m\u001b[44mI\u001b[47m\u001b[44mA\u001b[47m\u001b[44mI\u001b[47m\u001b[44mI\u001b[47m\u001b[44mI\u001b[47m\u001b[42mT\u001b[47m\u001b[45mD\u001b[47m\u001b[42mT\u001b[47m\u001b[45mE\u001b[47m\u001b[0m\n",
      "Canis_lupu \u001b[30m\u001b[47m\u001b[44mM\u001b[47m\u001b[45mE\u001b[47m\u001b[43mP\u001b[47m\u001b[44mI\u001b[47m\u001b[44mA\u001b[47m\u001b[44mI\u001b[47m\u001b[44mI\u001b[47m\u001b[44mI\u001b[47m\u001b[42mT\u001b[47m\u001b[45mD\u001b[47m\u001b[42mT\u001b[47m\u001b[45mE\u001b[47m\u001b[0m\n",
      "Bos_taurus \u001b[30m\u001b[47m\u001b[44mM\u001b[47m\u001b[45mE\u001b[47m\u001b[43mP\u001b[47m\u001b[44mI\u001b[47m\u001b[44mA\u001b[47m\u001b[44mI\u001b[47m\u001b[44mI\u001b[47m\u001b[44mI\u001b[47m\u001b[42mT\u001b[47m\u001b[45mD\u001b[47m\u001b[42mT\u001b[47m\u001b[45mE\u001b[47m\u001b[0m\n",
      "Sus_scrofa \u001b[30m\u001b[47m\u001b[44mM\u001b[47m\u001b[45mE\u001b[47m\u001b[43mP\u001b[47m\u001b[44mI\u001b[47m\u001b[44mA\u001b[47m\u001b[44mI\u001b[47m\u001b[44mI\u001b[47m\u001b[44mI\u001b[47m\u001b[42mT\u001b[47m\u001b[45mD\u001b[47m\u001b[42mT\u001b[47m\u001b[45mE\u001b[47m\u001b[0m\n",
      "Anolis_car \u001b[30m\u001b[47m\u001b[44mM\u001b[47m\u001b[43mP\u001b[47m\u001b[44mA\u001b[47m\u001b[44mA\u001b[47m\u001b[43mG\u001b[47m\u001b[44mI\u001b[47m\u001b[44mM\u001b[47m\u001b[44mI\u001b[47m\u001b[44mM\u001b[47m\u001b[44mI\u001b[47m\u001b[42mT\u001b[47m\u001b[45mE\u001b[47m\u001b[0m\n",
      "Gallus_gal \u001b[30m\u001b[47m\u001b[43mG\u001b[47m\u001b[42mT\u001b[47m\u001b[43mG\u001b[47m\u001b[44mV\u001b[47m\u001b[43mG\u001b[47m\u001b[44mI\u001b[47m\u001b[44mV\u001b[47m\u001b[44mI\u001b[47m\u001b[42mT\u001b[47m\u001b[44mI\u001b[47m\u001b[42mT\u001b[47m\u001b[45mE\u001b[47m\u001b[0m\n",
      "Taeniopygi \u001b[30m\u001b[47m\u001b[43mG\u001b[47m\u001b[42mT\u001b[47m\u001b[43mG\u001b[47m\u001b[44mV\u001b[47m\u001b[42mS\u001b[47m\u001b[44mI\u001b[47m\u001b[44mI\u001b[47m\u001b[44mI\u001b[47m\u001b[42mT\u001b[47m\u001b[44mI\u001b[47m\u001b[42mT\u001b[47m\u001b[45mE\u001b[47m\u001b[0m\n",
      "          0↑\n"
     ]
    }
   ],
   "source": [
    "alv.view(aln)"
   ]
  },
  {
   "cell_type": "markdown",
   "id": "202b1aaf",
   "metadata": {},
   "source": [
    "#### The PIAIIT motif is missing in the following model species:"
   ]
  },
  {
   "cell_type": "code",
   "execution_count": 6,
   "id": "6ce40657",
   "metadata": {},
   "outputs": [
    {
     "data": {
      "text/plain": [
       "['Xenopus_tropicalis']"
      ]
     },
     "execution_count": 6,
     "metadata": {},
     "output_type": "execute_result"
    }
   ],
   "source": [
    "[i for i in akap5_seqs.keys() if i not in regions_dict.keys()]"
   ]
  },
  {
   "cell_type": "markdown",
   "id": "f4fe2bcb",
   "metadata": {},
   "source": [
    "#### Construct a hmm for identifying *calcineurin* binding regions in our model species"
   ]
  },
  {
   "cell_type": "markdown",
   "id": "406d61e7",
   "metadata": {},
   "source": [
    "There is not a profile hmm available in Pfam, so as a starting point I selected as seed sequences the ones specified in [ref](http://slim.icr.ac.uk/motifs/calcineurin/index.php?)"
   ]
  },
  {
   "cell_type": "code",
   "execution_count": null,
   "id": "e378196b",
   "metadata": {},
   "outputs": [],
   "source": []
  },
  {
   "cell_type": "markdown",
   "id": "8b5df183",
   "metadata": {},
   "source": [
    "### 3. PKA - RII binding domain- [Church et al. eLife (2021)](https://elifesciences.org/articles/68164)"
   ]
  },
  {
   "cell_type": "markdown",
   "id": "5d791b4e",
   "metadata": {},
   "source": [
    "### 4. PKC binding - [Faux et al. jbc (1997)](https://reader.elsevier.com/reader/sd/pii/S0021925818393281?token=41EEC70C8926EE5A9CD0F774A8DB46B41F4C8DD5470424CC4351BE2FFFE89CE95151AA97ACAC6FC2259E36778809C633&originRegion=us-east-1&originCreation=20220721161621)"
   ]
  }
 ],
 "metadata": {
  "kernelspec": {
   "display_name": "Python 3 (ipykernel)",
   "language": "python",
   "name": "python3"
  },
  "language_info": {
   "codemirror_mode": {
    "name": "ipython",
    "version": 3
   },
   "file_extension": ".py",
   "mimetype": "text/x-python",
   "name": "python",
   "nbconvert_exporter": "python",
   "pygments_lexer": "ipython3",
   "version": "3.9.13"
  }
 },
 "nbformat": 4,
 "nbformat_minor": 5
}
