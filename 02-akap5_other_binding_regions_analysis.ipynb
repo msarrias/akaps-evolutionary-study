{
 "cells": [
  {
   "cell_type": "code",
   "execution_count": 1,
   "id": "bbdbec44",
   "metadata": {},
   "outputs": [],
   "source": [
    "%load_ext autoreload\n",
    "%autoreload 2\n",
    "from fun import *\n",
    "os.environ['QT_QPA_PLATFORM']='offscreen'"
   ]
  },
  {
   "cell_type": "code",
   "execution_count": 2,
   "id": "8757d93e",
   "metadata": {},
   "outputs": [],
   "source": [
    "seq_filename = 'fasta_files/akap5_seq_prot.fa'\n",
    "msa_filename = 'fasta_files/msa/akap5_seq_align.fa'\n",
    "AKAP79_model_species = binding_regions()\n",
    "#AKAP79_model_species.muscle_msa(seq_filename, msa_filename)\n",
    "# Parse msa and original sequences\n",
    "akap5_seqs = AKAP79_model_species.parse_fasta_file(seq_filename)\n",
    "akap5_msa = AKAP79_model_species.parse_fasta_file(msa_filename)"
   ]
  },
  {
   "cell_type": "code",
   "execution_count": 3,
   "id": "264ef697",
   "metadata": {},
   "outputs": [],
   "source": [
    "# We will use as a reference the human architecture\n",
    "ref = 'Homo_sapiens'"
   ]
  },
  {
   "cell_type": "markdown",
   "id": "5cb7d82f",
   "metadata": {},
   "source": [
    "### Binding partners:"
   ]
  },
  {
   "cell_type": "markdown",
   "id": "09ab84be",
   "metadata": {},
   "source": [
    "##### Having the human architecture we will  look at the alignment in the different reference coordinates:"
   ]
  },
  {
   "cell_type": "markdown",
   "id": "e02cbfa0",
   "metadata": {},
   "source": [
    "### 2. Calcineurin (PP2B) - mediated by the PIAIIT motif- [ref](http://slim.icr.ac.uk/motifs/calcineurin/index.php?page=overview#pixixt)"
   ]
  },
  {
   "cell_type": "code",
   "execution_count": 4,
   "id": "b06c4405",
   "metadata": {},
   "outputs": [],
   "source": [
    "# Calcineurin binding region \n",
    "base_string_piaiit = 'MEPIAIIITDTE'\n",
    "start, end = AKAP79_model_species.find_binding_region(base_string_piaiit, ref, akap5_msa)\n",
    "filename = 'fasta_files/binding_regions/AKAP5_PIAIIT.fa'\n",
    "regions_piaiit_dict, aln_piaiit = seq_domain_alignment(akap5_msa,\n",
    "                                         akap5_seqs,\n",
    "                                         start, end,\n",
    "                                         filename,\n",
    "                                         binding_partner = 'PIAIIT')"
   ]
  },
  {
   "cell_type": "code",
   "execution_count": 5,
   "id": "c887b097",
   "metadata": {},
   "outputs": [
    {
     "name": "stdout",
     "output_type": "stream",
     "text": [
      "The PIAIIT motif is missing in the following model species: ['Xenopus_tropicalis']\n",
      "Ornithorhy \u001b[30m\u001b[47m\u001b[44mM\u001b[47m\u001b[45mE\u001b[47m\u001b[43mP\u001b[47m\u001b[44mI\u001b[47m\u001b[44mA\u001b[47m\u001b[44mI\u001b[47m\u001b[44mI\u001b[47m\u001b[44mI\u001b[47m\u001b[42mT\u001b[47m\u001b[45mD\u001b[47m\u001b[42mT\u001b[47m\u001b[45mE\u001b[47m\u001b[0m\n",
      "Monodelphi \u001b[30m\u001b[47m\u001b[44mM\u001b[47m\u001b[45mE\u001b[47m\u001b[43mP\u001b[47m\u001b[44mI\u001b[47m\u001b[44mA\u001b[47m\u001b[44mI\u001b[47m\u001b[44mI\u001b[47m\u001b[44mV\u001b[47m\u001b[42mT\u001b[47m\u001b[45mD\u001b[47m\u001b[42mT\u001b[47m\u001b[45mE\u001b[47m\u001b[0m\n",
      "Mus_muscul \u001b[30m\u001b[47m\u001b[44mM\u001b[47m\u001b[45mE\u001b[47m\u001b[43mP\u001b[47m\u001b[44mI\u001b[47m\u001b[44mA\u001b[47m\u001b[44mI\u001b[47m\u001b[44mI\u001b[47m\u001b[44mI\u001b[47m\u001b[42mT\u001b[47m\u001b[45mD\u001b[47m\u001b[42mT\u001b[47m\u001b[45mE\u001b[47m\u001b[0m\n",
      "Homo_sapie \u001b[30m\u001b[47m\u001b[44mM\u001b[47m\u001b[45mE\u001b[47m\u001b[43mP\u001b[47m\u001b[44mI\u001b[47m\u001b[44mA\u001b[47m\u001b[44mI\u001b[47m\u001b[44mI\u001b[47m\u001b[44mI\u001b[47m\u001b[42mT\u001b[47m\u001b[45mD\u001b[47m\u001b[42mT\u001b[47m\u001b[45mE\u001b[47m\u001b[0m\n",
      "Canis_lupu \u001b[30m\u001b[47m\u001b[44mM\u001b[47m\u001b[45mE\u001b[47m\u001b[43mP\u001b[47m\u001b[44mI\u001b[47m\u001b[44mA\u001b[47m\u001b[44mI\u001b[47m\u001b[44mI\u001b[47m\u001b[44mI\u001b[47m\u001b[42mT\u001b[47m\u001b[45mD\u001b[47m\u001b[42mT\u001b[47m\u001b[45mE\u001b[47m\u001b[0m\n",
      "Bos_taurus \u001b[30m\u001b[47m\u001b[44mM\u001b[47m\u001b[45mE\u001b[47m\u001b[43mP\u001b[47m\u001b[44mI\u001b[47m\u001b[44mA\u001b[47m\u001b[44mI\u001b[47m\u001b[44mI\u001b[47m\u001b[44mI\u001b[47m\u001b[42mT\u001b[47m\u001b[45mD\u001b[47m\u001b[42mT\u001b[47m\u001b[45mE\u001b[47m\u001b[0m\n",
      "Sus_scrofa \u001b[30m\u001b[47m\u001b[44mM\u001b[47m\u001b[45mE\u001b[47m\u001b[43mP\u001b[47m\u001b[44mI\u001b[47m\u001b[44mA\u001b[47m\u001b[44mI\u001b[47m\u001b[44mI\u001b[47m\u001b[44mI\u001b[47m\u001b[42mT\u001b[47m\u001b[45mD\u001b[47m\u001b[42mT\u001b[47m\u001b[45mE\u001b[47m\u001b[0m\n",
      "Anolis_car \u001b[30m\u001b[47m\u001b[44mM\u001b[47m\u001b[43mP\u001b[47m\u001b[44mA\u001b[47m\u001b[44mA\u001b[47m\u001b[43mG\u001b[47m\u001b[44mI\u001b[47m\u001b[44mM\u001b[47m\u001b[44mI\u001b[47m\u001b[44mM\u001b[47m\u001b[44mI\u001b[47m\u001b[42mT\u001b[47m\u001b[45mE\u001b[47m\u001b[0m\n",
      "Gallus_gal \u001b[30m\u001b[47m\u001b[43mG\u001b[47m\u001b[42mT\u001b[47m\u001b[43mG\u001b[47m\u001b[44mV\u001b[47m\u001b[43mG\u001b[47m\u001b[44mI\u001b[47m\u001b[44mV\u001b[47m\u001b[44mI\u001b[47m\u001b[42mT\u001b[47m\u001b[44mI\u001b[47m\u001b[42mT\u001b[47m\u001b[45mE\u001b[47m\u001b[0m\n",
      "Taeniopygi \u001b[30m\u001b[47m\u001b[43mG\u001b[47m\u001b[42mT\u001b[47m\u001b[43mG\u001b[47m\u001b[44mV\u001b[47m\u001b[42mS\u001b[47m\u001b[44mI\u001b[47m\u001b[44mI\u001b[47m\u001b[44mI\u001b[47m\u001b[42mT\u001b[47m\u001b[44mI\u001b[47m\u001b[42mT\u001b[47m\u001b[45mE\u001b[47m\u001b[0m\n",
      "          0↑\n"
     ]
    }
   ],
   "source": [
    "print(f'The PIAIIT motif is missing in the following model species: {[i for i in akap5_seqs.keys() if i not in regions_piaiit_dict.keys()]}')\n",
    "\n",
    "alv.view(aln_piaiit)\n"
   ]
  },
  {
   "cell_type": "markdown",
   "id": "f4fe2bcb",
   "metadata": {},
   "source": [
    "#### Construct a hmm for identifying *calcineurin* binding regions in our model species"
   ]
  },
  {
   "cell_type": "markdown",
   "id": "d4086712",
   "metadata": {},
   "source": [
    "There is not a profile hmm available in Pfam, so as a starting point I selected as seed sequences the ones specified in [ref](http://slim.icr.ac.uk/motifs/calcineurin/index.php?)"
   ]
  },
  {
   "cell_type": "code",
   "execution_count": 6,
   "id": "5de45b8c",
   "metadata": {},
   "outputs": [],
   "source": [
    "hmm_for_piaiit_domain = binding_regions()\n",
    "msa_filename = 'fasta_files/msa/PIAIIT_seed_msa.fa'\n",
    "# align the seed sequences - downloaded from Pfam\n",
    "hmm_for_piaiit_domain.muscle_msa('profile_hmm/seed_files/PIAIIT_seed.fa', msa_filename)\n",
    "# build the profile hmm\n",
    "hmm_for_piaiit_domain.build_profile_hmm(\"profile_hmm/hmm/PIAIIT.hmm\", msa_filename)\n",
    "# search for the binding region\n",
    "hmm_for_piaiit_domain.search_binding_regions(\"profile_hmm/PIAIIT.sto\",\"profile_hmm/hmm/PIAIIT.hmm\",seq_filename)\n",
    "piaiit_hmm_hits = read_sto_files(\"profile_hmm/PIAIIT.sto\")"
   ]
  },
  {
   "cell_type": "code",
   "execution_count": 7,
   "id": "5171037f",
   "metadata": {},
   "outputs": [
    {
     "data": {
      "text/html": [
       "<div>\n",
       "<style scoped>\n",
       "    .dataframe tbody tr th:only-of-type {\n",
       "        vertical-align: middle;\n",
       "    }\n",
       "\n",
       "    .dataframe tbody tr th {\n",
       "        vertical-align: top;\n",
       "    }\n",
       "\n",
       "    .dataframe thead th {\n",
       "        text-align: right;\n",
       "    }\n",
       "</style>\n",
       "<table border=\"1\" class=\"dataframe\">\n",
       "  <thead>\n",
       "    <tr style=\"text-align: right;\">\n",
       "      <th></th>\n",
       "      <th>specie</th>\n",
       "      <th>number of instances</th>\n",
       "      <th>aligned to ref seq in msa</th>\n",
       "    </tr>\n",
       "  </thead>\n",
       "  <tbody>\n",
       "    <tr>\n",
       "      <th>0</th>\n",
       "      <td>Anolis_carolinensis</td>\n",
       "      <td>0</td>\n",
       "      <td>-</td>\n",
       "    </tr>\n",
       "    <tr>\n",
       "      <th>1</th>\n",
       "      <td>Gallus_gallus</td>\n",
       "      <td>0</td>\n",
       "      <td>-</td>\n",
       "    </tr>\n",
       "    <tr>\n",
       "      <th>2</th>\n",
       "      <td>Taeniopygia_guttata</td>\n",
       "      <td>0</td>\n",
       "      <td>-</td>\n",
       "    </tr>\n",
       "    <tr>\n",
       "      <th>3</th>\n",
       "      <td>Ornithorhynchus_anatinus</td>\n",
       "      <td>1</td>\n",
       "      <td>{True: 1}</td>\n",
       "    </tr>\n",
       "    <tr>\n",
       "      <th>4</th>\n",
       "      <td>Monodelphis_domestica</td>\n",
       "      <td>1</td>\n",
       "      <td>{True: 1}</td>\n",
       "    </tr>\n",
       "    <tr>\n",
       "      <th>5</th>\n",
       "      <td>Mus_musculus</td>\n",
       "      <td>1</td>\n",
       "      <td>{True: 1}</td>\n",
       "    </tr>\n",
       "    <tr>\n",
       "      <th>6</th>\n",
       "      <td>Homo_sapiens</td>\n",
       "      <td>1</td>\n",
       "      <td>{True: 1}</td>\n",
       "    </tr>\n",
       "    <tr>\n",
       "      <th>7</th>\n",
       "      <td>Canis_lupus</td>\n",
       "      <td>1</td>\n",
       "      <td>{True: 1}</td>\n",
       "    </tr>\n",
       "    <tr>\n",
       "      <th>8</th>\n",
       "      <td>Bos_taurus</td>\n",
       "      <td>1</td>\n",
       "      <td>{True: 1}</td>\n",
       "    </tr>\n",
       "    <tr>\n",
       "      <th>9</th>\n",
       "      <td>Sus_scrofa</td>\n",
       "      <td>1</td>\n",
       "      <td>{True: 1}</td>\n",
       "    </tr>\n",
       "  </tbody>\n",
       "</table>\n",
       "</div>"
      ],
      "text/plain": [
       "                     specie  number of instances aligned to ref seq in msa\n",
       "0       Anolis_carolinensis                    0                         -\n",
       "1             Gallus_gallus                    0                         -\n",
       "2       Taeniopygia_guttata                    0                         -\n",
       "3  Ornithorhynchus_anatinus                    1                 {True: 1}\n",
       "4     Monodelphis_domestica                    1                 {True: 1}\n",
       "5              Mus_musculus                    1                 {True: 1}\n",
       "6              Homo_sapiens                    1                 {True: 1}\n",
       "7               Canis_lupus                    1                 {True: 1}\n",
       "8                Bos_taurus                    1                 {True: 1}\n",
       "9                Sus_scrofa                    1                 {True: 1}"
      ]
     },
     "execution_count": 7,
     "metadata": {},
     "output_type": "execute_result"
    }
   ],
   "source": [
    "hmm_hits_analysis_df(regions_piaiit_dict, piaiit_hmm_hits)"
   ]
  },
  {
   "cell_type": "markdown",
   "id": "d8e42edb",
   "metadata": {},
   "source": [
    "By using all the literature sequences as seed sequences, the profile hmm does not capture any binding regions, not even the reference sequence that is included among them (and which is also identical in other species). However, if I create an hmm profile using the human reference as the only seed sequence, the model succeeds in identifying some of the binding regions. "
   ]
  },
  {
   "cell_type": "markdown",
   "id": "8b5df183",
   "metadata": {},
   "source": [
    "### 3. PKA - mediated by the RII binding domain- [Church et al. eLife (2021)](https://elifesciences.org/articles/68164)"
   ]
  },
  {
   "cell_type": "code",
   "execution_count": 8,
   "id": "53298ddc",
   "metadata": {},
   "outputs": [],
   "source": [
    "# Calcineurin binding region \n",
    "base_string_RII_binding = 'LLIETASSLVKNAIQLSIEQL'\n",
    "start, end = AKAP79_model_species.find_binding_region(base_string_RII_binding, ref, akap5_msa)\n",
    "filename = 'fasta_files/binding_regions/AKAP5_RII_binding.fa'\n",
    "regions_dict_RII_binding, aln = seq_domain_alignment(akap5_msa,\n",
    "                                                     akap5_seqs,\n",
    "                                                     start, end,\n",
    "                                                     filename,\n",
    "                                                     binding_partner = 'RII_binding')"
   ]
  },
  {
   "cell_type": "code",
   "execution_count": 9,
   "id": "08b379a5",
   "metadata": {},
   "outputs": [
    {
     "name": "stdout",
     "output_type": "stream",
     "text": [
      "The RII_binding region is missing in the following model species: []\n",
      "Xenopus_tr \u001b[30m\u001b[47m\u001b[44mL\u001b[47m\u001b[44mL\u001b[47m\u001b[44mI\u001b[47m\u001b[42mT\u001b[47m\u001b[42mT\u001b[47m\u001b[44mA\u001b[47m\u001b[44mA\u001b[47m\u001b[42mT\u001b[47m\u001b[44mL\u001b[47m\u001b[44mV\u001b[47m\u001b[41mK\u001b[47m\u001b[41mK\u001b[47m\u001b[44mV\u001b[47m\u001b[44mL\u001b[47m\u001b[42mQ\u001b[47m\u001b[44mA\u001b[47m\u001b[42mS\u001b[47m\u001b[44mI\u001b[47m\u001b[42mQ\u001b[47m\u001b[42mQ\u001b[47m\u001b[44mL\u001b[47m\u001b[0m\n",
      "Ornithorhy \u001b[30m\u001b[47m\u001b[44mL\u001b[47m\u001b[44mL\u001b[47m\u001b[44mI\u001b[47m\u001b[45mE\u001b[47m\u001b[42mT\u001b[47m\u001b[44mA\u001b[47m\u001b[42mS\u001b[47m\u001b[42mS\u001b[47m\u001b[44mL\u001b[47m\u001b[44mV\u001b[47m\u001b[41mK\u001b[47m\u001b[41mK\u001b[47m\u001b[44mA\u001b[47m\u001b[44mI\u001b[47m\u001b[42mQ\u001b[47m\u001b[44mL\u001b[47m\u001b[42mS\u001b[47m\u001b[44mV\u001b[47m\u001b[45mE\u001b[47m\u001b[42mQ\u001b[47m\u001b[44mL\u001b[47m\u001b[0m\n",
      "Monodelphi \u001b[30m\u001b[47m\u001b[44mL\u001b[47m\u001b[44mL\u001b[47m\u001b[44mM\u001b[47m\u001b[45mE\u001b[47m\u001b[42mT\u001b[47m\u001b[44mA\u001b[47m\u001b[42mS\u001b[47m\u001b[42mS\u001b[47m\u001b[44mL\u001b[47m\u001b[44mV\u001b[47m\u001b[41mK\u001b[47m\u001b[42mN\u001b[47m\u001b[44mA\u001b[47m\u001b[44mI\u001b[47m\u001b[42mQ\u001b[47m\u001b[44mL\u001b[47m\u001b[42mS\u001b[47m\u001b[44mV\u001b[47m\u001b[45mE\u001b[47m\u001b[42mQ\u001b[47m\u001b[44mL\u001b[47m\u001b[0m\n",
      "Mus_muscul \u001b[30m\u001b[47m\u001b[44mL\u001b[47m\u001b[44mL\u001b[47m\u001b[44mI\u001b[47m\u001b[45mE\u001b[47m\u001b[42mT\u001b[47m\u001b[44mA\u001b[47m\u001b[42mS\u001b[47m\u001b[42mS\u001b[47m\u001b[44mL\u001b[47m\u001b[44mV\u001b[47m\u001b[41mK\u001b[47m\u001b[42mN\u001b[47m\u001b[44mA\u001b[47m\u001b[44mI\u001b[47m\u001b[45mE\u001b[47m\u001b[44mL\u001b[47m\u001b[42mS\u001b[47m\u001b[44mV\u001b[47m\u001b[45mE\u001b[47m\u001b[42mQ\u001b[47m\u001b[44mL\u001b[47m\u001b[0m\n",
      "Homo_sapie \u001b[30m\u001b[47m\u001b[44mL\u001b[47m\u001b[44mL\u001b[47m\u001b[44mI\u001b[47m\u001b[45mE\u001b[47m\u001b[42mT\u001b[47m\u001b[44mA\u001b[47m\u001b[42mS\u001b[47m\u001b[42mS\u001b[47m\u001b[44mL\u001b[47m\u001b[44mV\u001b[47m\u001b[41mK\u001b[47m\u001b[42mN\u001b[47m\u001b[44mA\u001b[47m\u001b[44mI\u001b[47m\u001b[42mQ\u001b[47m\u001b[44mL\u001b[47m\u001b[42mS\u001b[47m\u001b[44mI\u001b[47m\u001b[45mE\u001b[47m\u001b[42mQ\u001b[47m\u001b[44mL\u001b[47m\u001b[0m\n",
      "Canis_lupu \u001b[30m\u001b[47m\u001b[44mL\u001b[47m\u001b[44mL\u001b[47m\u001b[44mI\u001b[47m\u001b[45mE\u001b[47m\u001b[42mT\u001b[47m\u001b[44mA\u001b[47m\u001b[42mS\u001b[47m\u001b[42mS\u001b[47m\u001b[44mL\u001b[47m\u001b[44mV\u001b[47m\u001b[41mK\u001b[47m\u001b[42mN\u001b[47m\u001b[44mA\u001b[47m\u001b[44mI\u001b[47m\u001b[42mQ\u001b[47m\u001b[44mL\u001b[47m\u001b[42mS\u001b[47m\u001b[44mI\u001b[47m\u001b[45mE\u001b[47m\u001b[42mQ\u001b[47m\u001b[44mL\u001b[47m\u001b[0m\n",
      "Bos_taurus \u001b[30m\u001b[47m\u001b[44mL\u001b[47m\u001b[44mL\u001b[47m\u001b[44mI\u001b[47m\u001b[45mE\u001b[47m\u001b[42mT\u001b[47m\u001b[44mA\u001b[47m\u001b[42mS\u001b[47m\u001b[42mS\u001b[47m\u001b[44mL\u001b[47m\u001b[44mV\u001b[47m\u001b[41mK\u001b[47m\u001b[42mN\u001b[47m\u001b[44mA\u001b[47m\u001b[44mI\u001b[47m\u001b[42mQ\u001b[47m\u001b[44mL\u001b[47m\u001b[42mS\u001b[47m\u001b[44mI\u001b[47m\u001b[45mE\u001b[47m\u001b[42mQ\u001b[47m\u001b[44mL\u001b[47m\u001b[0m\n",
      "Sus_scrofa \u001b[30m\u001b[47m\u001b[44mL\u001b[47m\u001b[44mL\u001b[47m\u001b[44mI\u001b[47m\u001b[45mE\u001b[47m\u001b[42mT\u001b[47m\u001b[44mA\u001b[47m\u001b[42mS\u001b[47m\u001b[42mS\u001b[47m\u001b[44mL\u001b[47m\u001b[44mV\u001b[47m\u001b[41mK\u001b[47m\u001b[42mN\u001b[47m\u001b[44mA\u001b[47m\u001b[44mI\u001b[47m\u001b[42mQ\u001b[47m\u001b[44mL\u001b[47m\u001b[42mS\u001b[47m\u001b[44mI\u001b[47m\u001b[45mE\u001b[47m\u001b[42mQ\u001b[47m\u001b[44mL\u001b[47m\u001b[0m\n",
      "Anolis_car \u001b[30m\u001b[47m\u001b[44mL\u001b[47m\u001b[44mL\u001b[47m\u001b[44mI\u001b[47m\u001b[45mE\u001b[47m\u001b[42mT\u001b[47m\u001b[44mA\u001b[47m\u001b[44mA\u001b[47m\u001b[42mS\u001b[47m\u001b[44mL\u001b[47m\u001b[44mV\u001b[47m\u001b[41mK\u001b[47m\u001b[44mA\u001b[47m\u001b[44mA\u001b[47m\u001b[44mI\u001b[47m\u001b[42mQ\u001b[47m\u001b[42mS\u001b[47m\u001b[42mS\u001b[47m\u001b[44mI\u001b[47m\u001b[45mE\u001b[47m\u001b[42mQ\u001b[47m\u001b[44mL\u001b[47m\u001b[0m\n",
      "Gallus_gal \u001b[30m\u001b[47m\u001b[44mL\u001b[47m\u001b[44mL\u001b[47m\u001b[44mI\u001b[47m\u001b[45mE\u001b[47m\u001b[42mT\u001b[47m\u001b[44mA\u001b[47m\u001b[42mS\u001b[47m\u001b[42mS\u001b[47m\u001b[44mL\u001b[47m\u001b[44mV\u001b[47m\u001b[41mK\u001b[47m\u001b[44mA\u001b[47m\u001b[44mA\u001b[47m\u001b[44mI\u001b[47m\u001b[42mQ\u001b[47m\u001b[42mS\u001b[47m\u001b[42mS\u001b[47m\u001b[44mI\u001b[47m\u001b[45mE\u001b[47m\u001b[42mQ\u001b[47m\u001b[44mL\u001b[47m\u001b[0m\n",
      "Taeniopygi \u001b[30m\u001b[47m\u001b[44mL\u001b[47m\u001b[44mL\u001b[47m\u001b[44mI\u001b[47m\u001b[45mE\u001b[47m\u001b[42mT\u001b[47m\u001b[44mA\u001b[47m\u001b[42mS\u001b[47m\u001b[42mS\u001b[47m\u001b[44mL\u001b[47m\u001b[44mV\u001b[47m\u001b[41mK\u001b[47m\u001b[44mA\u001b[47m\u001b[44mA\u001b[47m\u001b[44mI\u001b[47m\u001b[42mQ\u001b[47m\u001b[42mS\u001b[47m\u001b[42mS\u001b[47m\u001b[44mI\u001b[47m\u001b[45mE\u001b[47m\u001b[42mQ\u001b[47m\u001b[44mL\u001b[47m\u001b[0m\n",
      "          0↑                 20↑\n"
     ]
    }
   ],
   "source": [
    "print(f'The RII_binding region is missing in the following model species: {[i for i in akap5_seqs.keys() if i not in regions_dict_RII_binding.keys()]}')\n",
    "alv.view(aln)"
   ]
  },
  {
   "cell_type": "code",
   "execution_count": 10,
   "id": "75bf4aa2",
   "metadata": {},
   "outputs": [],
   "source": [
    "hmm_for_RII_binding = binding_regions()\n",
    "msa_filename = 'fasta_files/msa/PF10522_seed_msa.fa'\n",
    "# align the seed sequences - downloaded from Pfam - manually included the human reference\n",
    "hmm_for_RII_binding.muscle_msa('profile_hmm/seed_files/PF10522_seed.fa', msa_filename)\n",
    "# build the profile hmm\n",
    "hmm_for_RII_binding.build_profile_hmm(\"profile_hmm/hmm/RII_binding.hmm\", msa_filename)\n",
    "# search for the binding region\n",
    "hmm_for_RII_binding.search_binding_regions(\"profile_hmm/RII_binding.sto\",\"profile_hmm/hmm/RII_binding.hmm\",seq_filename)\n",
    "RII_binding_hmm_hits = read_sto_files(\"profile_hmm/RII_binding.sto\")\n"
   ]
  },
  {
   "cell_type": "code",
   "execution_count": 11,
   "id": "fa20e1b2",
   "metadata": {},
   "outputs": [
    {
     "data": {
      "text/html": [
       "<div>\n",
       "<style scoped>\n",
       "    .dataframe tbody tr th:only-of-type {\n",
       "        vertical-align: middle;\n",
       "    }\n",
       "\n",
       "    .dataframe tbody tr th {\n",
       "        vertical-align: top;\n",
       "    }\n",
       "\n",
       "    .dataframe thead th {\n",
       "        text-align: right;\n",
       "    }\n",
       "</style>\n",
       "<table border=\"1\" class=\"dataframe\">\n",
       "  <thead>\n",
       "    <tr style=\"text-align: right;\">\n",
       "      <th></th>\n",
       "      <th>specie</th>\n",
       "      <th>number of instances</th>\n",
       "      <th>aligned to ref seq in msa</th>\n",
       "    </tr>\n",
       "  </thead>\n",
       "  <tbody>\n",
       "    <tr>\n",
       "      <th>0</th>\n",
       "      <td>Xenopus_tropicalis</td>\n",
       "      <td>0</td>\n",
       "      <td>-</td>\n",
       "    </tr>\n",
       "    <tr>\n",
       "      <th>1</th>\n",
       "      <td>Ornithorhynchus_anatinus</td>\n",
       "      <td>1</td>\n",
       "      <td>{True: 1}</td>\n",
       "    </tr>\n",
       "    <tr>\n",
       "      <th>2</th>\n",
       "      <td>Monodelphis_domestica</td>\n",
       "      <td>1</td>\n",
       "      <td>{True: 1}</td>\n",
       "    </tr>\n",
       "    <tr>\n",
       "      <th>3</th>\n",
       "      <td>Mus_musculus</td>\n",
       "      <td>1</td>\n",
       "      <td>{True: 1}</td>\n",
       "    </tr>\n",
       "    <tr>\n",
       "      <th>4</th>\n",
       "      <td>Homo_sapiens</td>\n",
       "      <td>1</td>\n",
       "      <td>{True: 1}</td>\n",
       "    </tr>\n",
       "    <tr>\n",
       "      <th>5</th>\n",
       "      <td>Canis_lupus</td>\n",
       "      <td>1</td>\n",
       "      <td>{True: 1}</td>\n",
       "    </tr>\n",
       "    <tr>\n",
       "      <th>6</th>\n",
       "      <td>Bos_taurus</td>\n",
       "      <td>1</td>\n",
       "      <td>{True: 1}</td>\n",
       "    </tr>\n",
       "    <tr>\n",
       "      <th>7</th>\n",
       "      <td>Sus_scrofa</td>\n",
       "      <td>1</td>\n",
       "      <td>{True: 1}</td>\n",
       "    </tr>\n",
       "    <tr>\n",
       "      <th>8</th>\n",
       "      <td>Anolis_carolinensis</td>\n",
       "      <td>1</td>\n",
       "      <td>{True: 1}</td>\n",
       "    </tr>\n",
       "    <tr>\n",
       "      <th>9</th>\n",
       "      <td>Gallus_gallus</td>\n",
       "      <td>1</td>\n",
       "      <td>{True: 1}</td>\n",
       "    </tr>\n",
       "    <tr>\n",
       "      <th>10</th>\n",
       "      <td>Taeniopygia_guttata</td>\n",
       "      <td>1</td>\n",
       "      <td>{True: 1}</td>\n",
       "    </tr>\n",
       "  </tbody>\n",
       "</table>\n",
       "</div>"
      ],
      "text/plain": [
       "                      specie  number of instances aligned to ref seq in msa\n",
       "0         Xenopus_tropicalis                    0                         -\n",
       "1   Ornithorhynchus_anatinus                    1                 {True: 1}\n",
       "2      Monodelphis_domestica                    1                 {True: 1}\n",
       "3               Mus_musculus                    1                 {True: 1}\n",
       "4               Homo_sapiens                    1                 {True: 1}\n",
       "5                Canis_lupus                    1                 {True: 1}\n",
       "6                 Bos_taurus                    1                 {True: 1}\n",
       "7                 Sus_scrofa                    1                 {True: 1}\n",
       "8        Anolis_carolinensis                    1                 {True: 1}\n",
       "9              Gallus_gallus                    1                 {True: 1}\n",
       "10       Taeniopygia_guttata                    1                 {True: 1}"
      ]
     },
     "execution_count": 11,
     "metadata": {},
     "output_type": "execute_result"
    }
   ],
   "source": [
    "hmm_hits_analysis_df(regions_dict_RII_binding, RII_binding_hmm_hits)"
   ]
  },
  {
   "cell_type": "markdown",
   "id": "5d791b4e",
   "metadata": {},
   "source": [
    "### 4. PKC binding - [Faux et al. jbc (1997)](https://reader.elsevier.com/reader/sd/pii/S0021925818393281?token=41EEC70C8926EE5A9CD0F774A8DB46B41F4C8DD5470424CC4351BE2FFFE89CE95151AA97ACAC6FC2259E36778809C633&originRegion=us-east-1&originCreation=20220721161621)"
   ]
  },
  {
   "cell_type": "code",
   "execution_count": 12,
   "id": "fd74ab7a",
   "metadata": {},
   "outputs": [],
   "source": [
    "# Calcineurin binding region \n",
    "base_string_PKC = 'KASMLCFKRRKKAAKALKPKAG'\n",
    "start, end = AKAP79_model_species.find_binding_region(base_string_PKC, ref, akap5_msa)\n",
    "filename = 'fasta_files/binding_regions/AKAP5_PKC.fa'\n",
    "regions_dict_PKC, aln_PKC = seq_domain_alignment(akap5_msa,\n",
    "                                                 akap5_seqs,\n",
    "                                                 start, end,\n",
    "                                                 filename,\n",
    "                                                 binding_partner = 'PKC')"
   ]
  },
  {
   "cell_type": "code",
   "execution_count": 13,
   "id": "aba00c28",
   "metadata": {
    "scrolled": true
   },
   "outputs": [
    {
     "name": "stdout",
     "output_type": "stream",
     "text": [
      "The PKC binding region is missing in the following model species: []\n",
      "Xenopus_tr \u001b[30m\u001b[47m\u001b[41mK\u001b[47m\u001b[43mP\u001b[47m\u001b[44mL\u001b[47m\u001b[41mK\u001b[47m\u001b[44mI\u001b[47m\u001b[44mC\u001b[47m\u001b[44mF\u001b[47m\u001b[41mK\u001b[47m\u001b[41mK\u001b[47m\u001b[41mR\u001b[47m\u001b[42mS\u001b[47m\u001b[41mK\u001b[47m\u001b[44mA\u001b[47m\u001b[44mL\u001b[47m\u001b[41mR\u001b[47m\u001b[41mK\u001b[47m\u001b[42mT\u001b[47m\u001b[42mS\u001b[47m\u001b[45mD\u001b[47m\u001b[42mS\u001b[47m\u001b[42mN\u001b[47m\u001b[45mD\u001b[47m\u001b[45mD\u001b[47m\u001b[46mY\u001b[47m\u001b[41mK\u001b[47m\u001b[42mS\u001b[47m\u001b[45mE\u001b[47m\u001b[0m\n",
      "Ornithorhy \u001b[30m\u001b[47m\u001b[41mK\u001b[47m\u001b[42mS\u001b[47m\u001b[42mS\u001b[47m\u001b[44mF\u001b[47m\u001b[44mL\u001b[47m\u001b[44mC\u001b[47m\u001b[44mF\u001b[47m\u001b[41mK\u001b[47m\u001b[41mR\u001b[47m\u001b[41mK\u001b[47m\u001b[41mK\u001b[47m\u001b[41mK\u001b[47m\u001b[44mV\u001b[47m\u001b[44mV\u001b[47m\u001b[41mK\u001b[47m\u001b[44mA\u001b[47m\u001b[42mS\u001b[47m\u001b[41mK\u001b[47m\u001b[44mF\u001b[47m\u001b[42mS\u001b[47m\u001b[41mK\u001b[47m\u001b[45mD\u001b[47m\u001b[45mD\u001b[47m\u001b[42mS\u001b[47m\u001b[45mE\u001b[47m\u001b[43mP\u001b[47m\u001b[45mD\u001b[47m\u001b[0m\n",
      "Monodelphi \u001b[30m\u001b[47m\u001b[41mK\u001b[47m\u001b[44mA\u001b[47m\u001b[42mS\u001b[47m\u001b[44mM\u001b[47m\u001b[44mI\u001b[47m\u001b[44mC\u001b[47m\u001b[44mF\u001b[47m\u001b[41mK\u001b[47m\u001b[41mR\u001b[47m\u001b[41mR\u001b[47m\u001b[41mR\u001b[47m\u001b[41mK\u001b[47m\u001b[42mS\u001b[47m\u001b[44mV\u001b[47m\u001b[41mK\u001b[47m\u001b[44mA\u001b[47m\u001b[44mL\u001b[47m\u001b[41mK\u001b[47m\u001b[47m-\u001b[47m\u001b[42mS\u001b[47m\u001b[41mK\u001b[47m\u001b[42mN\u001b[47m\u001b[44mC\u001b[47m\u001b[42mS\u001b[47m\u001b[45mE\u001b[47m\u001b[41mR\u001b[47m\u001b[45mD\u001b[47m\u001b[0m\n",
      "Mus_muscul \u001b[30m\u001b[47m\u001b[41mK\u001b[47m\u001b[42mT\u001b[47m\u001b[44mA\u001b[47m\u001b[42mT\u001b[47m\u001b[44mL\u001b[47m\u001b[44mC\u001b[47m\u001b[44mF\u001b[47m\u001b[41mK\u001b[47m\u001b[41mR\u001b[47m\u001b[41mR\u001b[47m\u001b[41mK\u001b[47m\u001b[41mK\u001b[47m\u001b[44mA\u001b[47m\u001b[42mN\u001b[47m\u001b[41mK\u001b[47m\u001b[42mT\u001b[47m\u001b[47m-\u001b[47m\u001b[41mK\u001b[47m\u001b[47m-\u001b[47m\u001b[47m-\u001b[47m\u001b[47m-\u001b[47m\u001b[47m-\u001b[47m\u001b[47m-\u001b[47m\u001b[43mP\u001b[47m\u001b[41mK\u001b[47m\u001b[44mA\u001b[47m\u001b[43mG\u001b[47m\u001b[0m\n",
      "Homo_sapie \u001b[30m\u001b[47m\u001b[41mK\u001b[47m\u001b[44mA\u001b[47m\u001b[42mS\u001b[47m\u001b[44mM\u001b[47m\u001b[44mL\u001b[47m\u001b[44mC\u001b[47m\u001b[44mF\u001b[47m\u001b[41mK\u001b[47m\u001b[41mR\u001b[47m\u001b[41mR\u001b[47m\u001b[41mK\u001b[47m\u001b[41mK\u001b[47m\u001b[44mA\u001b[47m\u001b[44mA\u001b[47m\u001b[41mK\u001b[47m\u001b[44mA\u001b[47m\u001b[44mL\u001b[47m\u001b[41mK\u001b[47m\u001b[47m-\u001b[47m\u001b[47m-\u001b[47m\u001b[47m-\u001b[47m\u001b[47m-\u001b[47m\u001b[47m-\u001b[47m\u001b[43mP\u001b[47m\u001b[41mK\u001b[47m\u001b[44mA\u001b[47m\u001b[43mG\u001b[47m\u001b[0m\n",
      "Canis_lupu \u001b[30m\u001b[47m\u001b[41mR\u001b[47m\u001b[44mA\u001b[47m\u001b[42mS\u001b[47m\u001b[44mV\u001b[47m\u001b[44mL\u001b[47m\u001b[44mC\u001b[47m\u001b[44mF\u001b[47m\u001b[41mK\u001b[47m\u001b[41mR\u001b[47m\u001b[41mR\u001b[47m\u001b[41mK\u001b[47m\u001b[41mK\u001b[47m\u001b[44mA\u001b[47m\u001b[42mT\u001b[47m\u001b[41mK\u001b[47m\u001b[44mA\u001b[47m\u001b[44mM\u001b[47m\u001b[41mK\u001b[47m\u001b[47m-\u001b[47m\u001b[47m-\u001b[47m\u001b[47m-\u001b[47m\u001b[47m-\u001b[47m\u001b[47m-\u001b[47m\u001b[43mP\u001b[47m\u001b[41mK\u001b[47m\u001b[44mA\u001b[47m\u001b[42mS\u001b[47m\u001b[0m\n",
      "Bos_taurus \u001b[30m\u001b[47m\u001b[41mK\u001b[47m\u001b[44mA\u001b[47m\u001b[42mS\u001b[47m\u001b[44mM\u001b[47m\u001b[44mL\u001b[47m\u001b[44mC\u001b[47m\u001b[44mF\u001b[47m\u001b[41mK\u001b[47m\u001b[41mR\u001b[47m\u001b[41mR\u001b[47m\u001b[41mK\u001b[47m\u001b[41mK\u001b[47m\u001b[44mA\u001b[47m\u001b[44mA\u001b[47m\u001b[41mK\u001b[47m\u001b[44mA\u001b[47m\u001b[44mM\u001b[47m\u001b[41mK\u001b[47m\u001b[47m-\u001b[47m\u001b[47m-\u001b[47m\u001b[47m-\u001b[47m\u001b[47m-\u001b[47m\u001b[47m-\u001b[47m\u001b[43mP\u001b[47m\u001b[41mK\u001b[47m\u001b[44mA\u001b[47m\u001b[42mS\u001b[47m\u001b[0m\n",
      "Sus_scrofa \u001b[30m\u001b[47m\u001b[41mK\u001b[47m\u001b[44mA\u001b[47m\u001b[42mS\u001b[47m\u001b[44mM\u001b[47m\u001b[44mL\u001b[47m\u001b[44mC\u001b[47m\u001b[44mF\u001b[47m\u001b[41mK\u001b[47m\u001b[41mR\u001b[47m\u001b[41mR\u001b[47m\u001b[41mK\u001b[47m\u001b[41mK\u001b[47m\u001b[44mA\u001b[47m\u001b[42mT\u001b[47m\u001b[41mK\u001b[47m\u001b[44mA\u001b[47m\u001b[41mR\u001b[47m\u001b[41mK\u001b[47m\u001b[47m-\u001b[47m\u001b[47m-\u001b[47m\u001b[47m-\u001b[47m\u001b[47m-\u001b[47m\u001b[47m-\u001b[47m\u001b[43mP\u001b[47m\u001b[41mK\u001b[47m\u001b[44mA\u001b[47m\u001b[43mG\u001b[47m\u001b[0m\n",
      "Anolis_car \u001b[30m\u001b[47m\u001b[41mK\u001b[47m\u001b[44mA\u001b[47m\u001b[42mS\u001b[47m\u001b[44mV\u001b[47m\u001b[44mF\u001b[47m\u001b[44mC\u001b[47m\u001b[44mF\u001b[47m\u001b[41mK\u001b[47m\u001b[41mK\u001b[47m\u001b[41mR\u001b[47m\u001b[41mK\u001b[47m\u001b[41mK\u001b[47m\u001b[42mS\u001b[47m\u001b[44mC\u001b[47m\u001b[45mE\u001b[47m\u001b[41mK\u001b[47m\u001b[44mV\u001b[47m\u001b[44mA\u001b[47m\u001b[45mE\u001b[47m\u001b[41mK\u001b[47m\u001b[45mE\u001b[47m\u001b[45mE\u001b[47m\u001b[45mD\u001b[47m\u001b[43mG\u001b[47m\u001b[45mE\u001b[47m\u001b[42mS\u001b[47m\u001b[45mE\u001b[47m\u001b[0m\n",
      "Gallus_gal \u001b[30m\u001b[47m\u001b[41mK\u001b[47m\u001b[43mP\u001b[47m\u001b[42mS\u001b[47m\u001b[44mM\u001b[47m\u001b[44mL\u001b[47m\u001b[44mC\u001b[47m\u001b[44mF\u001b[47m\u001b[41mK\u001b[47m\u001b[41mK\u001b[47m\u001b[41mR\u001b[47m\u001b[41mK\u001b[47m\u001b[41mK\u001b[47m\u001b[42mS\u001b[47m\u001b[44mC\u001b[47m\u001b[41mK\u001b[47m\u001b[41mK\u001b[47m\u001b[43mG\u001b[47m\u001b[44mL\u001b[47m\u001b[42mT\u001b[47m\u001b[42mT\u001b[47m\u001b[41mK\u001b[47m\u001b[45mD\u001b[47m\u001b[44mA\u001b[47m\u001b[44mC\u001b[47m\u001b[45mE\u001b[47m\u001b[43mG\u001b[47m\u001b[44mA\u001b[47m\u001b[0m\n",
      "Taeniopygi \u001b[30m\u001b[47m\u001b[41mK\u001b[47m\u001b[43mP\u001b[47m\u001b[42mS\u001b[47m\u001b[44mM\u001b[47m\u001b[44mL\u001b[47m\u001b[44mC\u001b[47m\u001b[44mF\u001b[47m\u001b[41mK\u001b[47m\u001b[41mK\u001b[47m\u001b[41mR\u001b[47m\u001b[41mK\u001b[47m\u001b[41mK\u001b[47m\u001b[42mS\u001b[47m\u001b[43mG\u001b[47m\u001b[41mK\u001b[47m\u001b[41mK\u001b[47m\u001b[43mG\u001b[47m\u001b[44mL\u001b[47m\u001b[44mA\u001b[47m\u001b[44mV\u001b[47m\u001b[41mK\u001b[47m\u001b[45mD\u001b[47m\u001b[44mA\u001b[47m\u001b[44mC\u001b[47m\u001b[45mE\u001b[47m\u001b[43mG\u001b[47m\u001b[47m-\u001b[47m\u001b[0m\n",
      "          0↑                 20↑\n"
     ]
    }
   ],
   "source": [
    "print(f'The PKC binding region is missing in the following model species: {[i for i in akap5_seqs.keys() if i not in regions_dict_PKC.keys()]}')\n",
    "alv.view(aln_PKC)\n"
   ]
  },
  {
   "cell_type": "code",
   "execution_count": 14,
   "id": "136f59e3",
   "metadata": {},
   "outputs": [],
   "source": [
    "hmm_for_PKC = binding_regions()\n",
    "msa_filename = 'fasta_files/msa/PKC_binding_seed_msa.fa'\n",
    "# align the seed sequences - downloaded from Pfam - manually included the human reference\n",
    "hmm_for_PKC.muscle_msa('profile_hmm/seed_files/PKC_binding_seed.fa', msa_filename)\n",
    "# build the profile hmm\n",
    "hmm_for_PKC.build_profile_hmm(\"profile_hmm/hmm/PKC_binding.hmm\", msa_filename)\n",
    "# search for the binding region\n",
    "hmm_for_PKC.search_binding_regions(\"profile_hmm/PKC_binding.sto\",\"profile_hmm/hmm/PKC_binding.hmm\",seq_filename)\n",
    "PKC_binding_hmm_hits = read_sto_files(\"profile_hmm/PKC_binding.sto\")\n"
   ]
  },
  {
   "cell_type": "code",
   "execution_count": 15,
   "id": "a7ea737a",
   "metadata": {},
   "outputs": [
    {
     "data": {
      "text/html": [
       "<div>\n",
       "<style scoped>\n",
       "    .dataframe tbody tr th:only-of-type {\n",
       "        vertical-align: middle;\n",
       "    }\n",
       "\n",
       "    .dataframe tbody tr th {\n",
       "        vertical-align: top;\n",
       "    }\n",
       "\n",
       "    .dataframe thead th {\n",
       "        text-align: right;\n",
       "    }\n",
       "</style>\n",
       "<table border=\"1\" class=\"dataframe\">\n",
       "  <thead>\n",
       "    <tr style=\"text-align: right;\">\n",
       "      <th></th>\n",
       "      <th>specie</th>\n",
       "      <th>number of instances</th>\n",
       "      <th>aligned to ref seq in msa</th>\n",
       "    </tr>\n",
       "  </thead>\n",
       "  <tbody>\n",
       "    <tr>\n",
       "      <th>0</th>\n",
       "      <td>Xenopus_tropicalis</td>\n",
       "      <td>0</td>\n",
       "      <td>-</td>\n",
       "    </tr>\n",
       "    <tr>\n",
       "      <th>1</th>\n",
       "      <td>Anolis_carolinensis</td>\n",
       "      <td>0</td>\n",
       "      <td>-</td>\n",
       "    </tr>\n",
       "    <tr>\n",
       "      <th>2</th>\n",
       "      <td>Ornithorhynchus_anatinus</td>\n",
       "      <td>1</td>\n",
       "      <td>{True: 1}</td>\n",
       "    </tr>\n",
       "    <tr>\n",
       "      <th>3</th>\n",
       "      <td>Monodelphis_domestica</td>\n",
       "      <td>1</td>\n",
       "      <td>{True: 1}</td>\n",
       "    </tr>\n",
       "    <tr>\n",
       "      <th>4</th>\n",
       "      <td>Mus_musculus</td>\n",
       "      <td>1</td>\n",
       "      <td>{True: 1}</td>\n",
       "    </tr>\n",
       "    <tr>\n",
       "      <th>5</th>\n",
       "      <td>Homo_sapiens</td>\n",
       "      <td>1</td>\n",
       "      <td>{True: 1}</td>\n",
       "    </tr>\n",
       "    <tr>\n",
       "      <th>6</th>\n",
       "      <td>Canis_lupus</td>\n",
       "      <td>1</td>\n",
       "      <td>{True: 1}</td>\n",
       "    </tr>\n",
       "    <tr>\n",
       "      <th>7</th>\n",
       "      <td>Bos_taurus</td>\n",
       "      <td>1</td>\n",
       "      <td>{True: 1}</td>\n",
       "    </tr>\n",
       "    <tr>\n",
       "      <th>8</th>\n",
       "      <td>Sus_scrofa</td>\n",
       "      <td>1</td>\n",
       "      <td>{True: 1}</td>\n",
       "    </tr>\n",
       "    <tr>\n",
       "      <th>9</th>\n",
       "      <td>Gallus_gallus</td>\n",
       "      <td>1</td>\n",
       "      <td>{True: 1}</td>\n",
       "    </tr>\n",
       "    <tr>\n",
       "      <th>10</th>\n",
       "      <td>Taeniopygia_guttata</td>\n",
       "      <td>1</td>\n",
       "      <td>{True: 1}</td>\n",
       "    </tr>\n",
       "  </tbody>\n",
       "</table>\n",
       "</div>"
      ],
      "text/plain": [
       "                      specie  number of instances aligned to ref seq in msa\n",
       "0         Xenopus_tropicalis                    0                         -\n",
       "1        Anolis_carolinensis                    0                         -\n",
       "2   Ornithorhynchus_anatinus                    1                 {True: 1}\n",
       "3      Monodelphis_domestica                    1                 {True: 1}\n",
       "4               Mus_musculus                    1                 {True: 1}\n",
       "5               Homo_sapiens                    1                 {True: 1}\n",
       "6                Canis_lupus                    1                 {True: 1}\n",
       "7                 Bos_taurus                    1                 {True: 1}\n",
       "8                 Sus_scrofa                    1                 {True: 1}\n",
       "9              Gallus_gallus                    1                 {True: 1}\n",
       "10       Taeniopygia_guttata                    1                 {True: 1}"
      ]
     },
     "execution_count": 15,
     "metadata": {},
     "output_type": "execute_result"
    }
   ],
   "source": [
    "hmm_hits_analysis_df(regions_dict_PKC, PKC_binding_hmm_hits)"
   ]
  }
 ],
 "metadata": {
  "kernelspec": {
   "display_name": "Python 3 (ipykernel)",
   "language": "python",
   "name": "python3"
  },
  "language_info": {
   "codemirror_mode": {
    "name": "ipython",
    "version": 3
   },
   "file_extension": ".py",
   "mimetype": "text/x-python",
   "name": "python",
   "nbconvert_exporter": "python",
   "pygments_lexer": "ipython3",
   "version": "3.9.13"
  }
 },
 "nbformat": 4,
 "nbformat_minor": 5
}
